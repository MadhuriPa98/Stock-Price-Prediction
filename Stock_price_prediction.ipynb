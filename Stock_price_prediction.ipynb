{
  "nbformat": 4,
  "nbformat_minor": 0,
  "metadata": {
    "colab": {
      "provenance": []
    },
    "kernelspec": {
      "name": "python3",
      "display_name": "Python 3"
    },
    "language_info": {
      "name": "python"
    }
  },
  "cells": [
    {
      "cell_type": "code",
      "execution_count": 2,
      "metadata": {
        "id": "s2beZOHfCKC9"
      },
      "outputs": [],
      "source": [
        "import pandas_datareader as pdr \n"
      ]
    },
    {
      "cell_type": "code",
      "source": [
        "key = \"5d0ff8813ad56c9cf82fc7bb2ada8a5ca05fb8e1\""
      ],
      "metadata": {
        "id": "8NODnxrmFNlZ"
      },
      "execution_count": 3,
      "outputs": []
    },
    {
      "cell_type": "code",
      "source": [
        "import pandas as pd"
      ],
      "metadata": {
        "id": "CkiVqVGJGZh6"
      },
      "execution_count": 4,
      "outputs": []
    },
    {
      "cell_type": "code",
      "source": [
        "df = pdr.get_data_tiingo('AAPL', api_key = key)"
      ],
      "metadata": {
        "colab": {
          "base_uri": "https://localhost:8080/"
        },
        "id": "KKbLbezJFVSe",
        "outputId": "c83eff38-bbf6-43a3-b4af-8734f0ca2207"
      },
      "execution_count": 5,
      "outputs": [
        {
          "output_type": "stream",
          "name": "stderr",
          "text": [
            "/usr/local/lib/python3.9/dist-packages/pandas_datareader/tiingo.py:234: FutureWarning: In a future version of pandas all arguments of concat except for the argument 'objs' will be keyword-only\n",
            "  return pd.concat(dfs, self._concat_axis)\n"
          ]
        }
      ]
    },
    {
      "cell_type": "code",
      "source": [
        "df.to_csv('AAPL.csv')"
      ],
      "metadata": {
        "id": "EqyEZAkYGagz"
      },
      "execution_count": 6,
      "outputs": []
    },
    {
      "cell_type": "code",
      "source": [
        "df = pd.read_csv('AAPL.csv')\n",
        "df.head()"
      ],
      "metadata": {
        "colab": {
          "base_uri": "https://localhost:8080/",
          "height": 206
        },
        "id": "EiS12yRpGbKw",
        "outputId": "12028b8e-728c-438a-f5b4-66c36e67aa90"
      },
      "execution_count": 7,
      "outputs": [
        {
          "output_type": "execute_result",
          "data": {
            "text/plain": [
              "  symbol                       date   close    high     low    open    volume  \\\n",
              "0   AAPL  2018-03-12 00:00:00+00:00  181.72  182.39  180.21  180.29  32055405   \n",
              "1   AAPL  2018-03-13 00:00:00+00:00  179.97  183.50  179.24  182.59  31168404   \n",
              "2   AAPL  2018-03-14 00:00:00+00:00  178.44  180.52  177.81  180.32  29075469   \n",
              "3   AAPL  2018-03-15 00:00:00+00:00  178.65  180.24  178.07  178.50  22584565   \n",
              "4   AAPL  2018-03-16 00:00:00+00:00  178.02  179.12  177.62  178.65  36836456   \n",
              "\n",
              "    adjClose    adjHigh     adjLow    adjOpen  adjVolume  divCash  splitFactor  \n",
              "0  43.250740  43.410205  42.891348  42.910389  128221620      0.0          1.0  \n",
              "1  42.834226  43.674393  42.660481  43.457806  124673616      0.0          1.0  \n",
              "2  42.470075  42.965131  42.320130  42.917529  116301876      0.0          1.0  \n",
              "3  42.520056  42.898489  42.382012  42.484355   90338260      0.0          1.0  \n",
              "4  42.370112  42.631920  42.274909  42.520056  147345824      0.0          1.0  "
            ],
            "text/html": [
              "\n",
              "  <div id=\"df-d68346c3-a78d-4ffc-a23b-831d8bb9cd8e\">\n",
              "    <div class=\"colab-df-container\">\n",
              "      <div>\n",
              "<style scoped>\n",
              "    .dataframe tbody tr th:only-of-type {\n",
              "        vertical-align: middle;\n",
              "    }\n",
              "\n",
              "    .dataframe tbody tr th {\n",
              "        vertical-align: top;\n",
              "    }\n",
              "\n",
              "    .dataframe thead th {\n",
              "        text-align: right;\n",
              "    }\n",
              "</style>\n",
              "<table border=\"1\" class=\"dataframe\">\n",
              "  <thead>\n",
              "    <tr style=\"text-align: right;\">\n",
              "      <th></th>\n",
              "      <th>symbol</th>\n",
              "      <th>date</th>\n",
              "      <th>close</th>\n",
              "      <th>high</th>\n",
              "      <th>low</th>\n",
              "      <th>open</th>\n",
              "      <th>volume</th>\n",
              "      <th>adjClose</th>\n",
              "      <th>adjHigh</th>\n",
              "      <th>adjLow</th>\n",
              "      <th>adjOpen</th>\n",
              "      <th>adjVolume</th>\n",
              "      <th>divCash</th>\n",
              "      <th>splitFactor</th>\n",
              "    </tr>\n",
              "  </thead>\n",
              "  <tbody>\n",
              "    <tr>\n",
              "      <th>0</th>\n",
              "      <td>AAPL</td>\n",
              "      <td>2018-03-12 00:00:00+00:00</td>\n",
              "      <td>181.72</td>\n",
              "      <td>182.39</td>\n",
              "      <td>180.21</td>\n",
              "      <td>180.29</td>\n",
              "      <td>32055405</td>\n",
              "      <td>43.250740</td>\n",
              "      <td>43.410205</td>\n",
              "      <td>42.891348</td>\n",
              "      <td>42.910389</td>\n",
              "      <td>128221620</td>\n",
              "      <td>0.0</td>\n",
              "      <td>1.0</td>\n",
              "    </tr>\n",
              "    <tr>\n",
              "      <th>1</th>\n",
              "      <td>AAPL</td>\n",
              "      <td>2018-03-13 00:00:00+00:00</td>\n",
              "      <td>179.97</td>\n",
              "      <td>183.50</td>\n",
              "      <td>179.24</td>\n",
              "      <td>182.59</td>\n",
              "      <td>31168404</td>\n",
              "      <td>42.834226</td>\n",
              "      <td>43.674393</td>\n",
              "      <td>42.660481</td>\n",
              "      <td>43.457806</td>\n",
              "      <td>124673616</td>\n",
              "      <td>0.0</td>\n",
              "      <td>1.0</td>\n",
              "    </tr>\n",
              "    <tr>\n",
              "      <th>2</th>\n",
              "      <td>AAPL</td>\n",
              "      <td>2018-03-14 00:00:00+00:00</td>\n",
              "      <td>178.44</td>\n",
              "      <td>180.52</td>\n",
              "      <td>177.81</td>\n",
              "      <td>180.32</td>\n",
              "      <td>29075469</td>\n",
              "      <td>42.470075</td>\n",
              "      <td>42.965131</td>\n",
              "      <td>42.320130</td>\n",
              "      <td>42.917529</td>\n",
              "      <td>116301876</td>\n",
              "      <td>0.0</td>\n",
              "      <td>1.0</td>\n",
              "    </tr>\n",
              "    <tr>\n",
              "      <th>3</th>\n",
              "      <td>AAPL</td>\n",
              "      <td>2018-03-15 00:00:00+00:00</td>\n",
              "      <td>178.65</td>\n",
              "      <td>180.24</td>\n",
              "      <td>178.07</td>\n",
              "      <td>178.50</td>\n",
              "      <td>22584565</td>\n",
              "      <td>42.520056</td>\n",
              "      <td>42.898489</td>\n",
              "      <td>42.382012</td>\n",
              "      <td>42.484355</td>\n",
              "      <td>90338260</td>\n",
              "      <td>0.0</td>\n",
              "      <td>1.0</td>\n",
              "    </tr>\n",
              "    <tr>\n",
              "      <th>4</th>\n",
              "      <td>AAPL</td>\n",
              "      <td>2018-03-16 00:00:00+00:00</td>\n",
              "      <td>178.02</td>\n",
              "      <td>179.12</td>\n",
              "      <td>177.62</td>\n",
              "      <td>178.65</td>\n",
              "      <td>36836456</td>\n",
              "      <td>42.370112</td>\n",
              "      <td>42.631920</td>\n",
              "      <td>42.274909</td>\n",
              "      <td>42.520056</td>\n",
              "      <td>147345824</td>\n",
              "      <td>0.0</td>\n",
              "      <td>1.0</td>\n",
              "    </tr>\n",
              "  </tbody>\n",
              "</table>\n",
              "</div>\n",
              "      <button class=\"colab-df-convert\" onclick=\"convertToInteractive('df-d68346c3-a78d-4ffc-a23b-831d8bb9cd8e')\"\n",
              "              title=\"Convert this dataframe to an interactive table.\"\n",
              "              style=\"display:none;\">\n",
              "        \n",
              "  <svg xmlns=\"http://www.w3.org/2000/svg\" height=\"24px\"viewBox=\"0 0 24 24\"\n",
              "       width=\"24px\">\n",
              "    <path d=\"M0 0h24v24H0V0z\" fill=\"none\"/>\n",
              "    <path d=\"M18.56 5.44l.94 2.06.94-2.06 2.06-.94-2.06-.94-.94-2.06-.94 2.06-2.06.94zm-11 1L8.5 8.5l.94-2.06 2.06-.94-2.06-.94L8.5 2.5l-.94 2.06-2.06.94zm10 10l.94 2.06.94-2.06 2.06-.94-2.06-.94-.94-2.06-.94 2.06-2.06.94z\"/><path d=\"M17.41 7.96l-1.37-1.37c-.4-.4-.92-.59-1.43-.59-.52 0-1.04.2-1.43.59L10.3 9.45l-7.72 7.72c-.78.78-.78 2.05 0 2.83L4 21.41c.39.39.9.59 1.41.59.51 0 1.02-.2 1.41-.59l7.78-7.78 2.81-2.81c.8-.78.8-2.07 0-2.86zM5.41 20L4 18.59l7.72-7.72 1.47 1.35L5.41 20z\"/>\n",
              "  </svg>\n",
              "      </button>\n",
              "      \n",
              "  <style>\n",
              "    .colab-df-container {\n",
              "      display:flex;\n",
              "      flex-wrap:wrap;\n",
              "      gap: 12px;\n",
              "    }\n",
              "\n",
              "    .colab-df-convert {\n",
              "      background-color: #E8F0FE;\n",
              "      border: none;\n",
              "      border-radius: 50%;\n",
              "      cursor: pointer;\n",
              "      display: none;\n",
              "      fill: #1967D2;\n",
              "      height: 32px;\n",
              "      padding: 0 0 0 0;\n",
              "      width: 32px;\n",
              "    }\n",
              "\n",
              "    .colab-df-convert:hover {\n",
              "      background-color: #E2EBFA;\n",
              "      box-shadow: 0px 1px 2px rgba(60, 64, 67, 0.3), 0px 1px 3px 1px rgba(60, 64, 67, 0.15);\n",
              "      fill: #174EA6;\n",
              "    }\n",
              "\n",
              "    [theme=dark] .colab-df-convert {\n",
              "      background-color: #3B4455;\n",
              "      fill: #D2E3FC;\n",
              "    }\n",
              "\n",
              "    [theme=dark] .colab-df-convert:hover {\n",
              "      background-color: #434B5C;\n",
              "      box-shadow: 0px 1px 3px 1px rgba(0, 0, 0, 0.15);\n",
              "      filter: drop-shadow(0px 1px 2px rgba(0, 0, 0, 0.3));\n",
              "      fill: #FFFFFF;\n",
              "    }\n",
              "  </style>\n",
              "\n",
              "      <script>\n",
              "        const buttonEl =\n",
              "          document.querySelector('#df-d68346c3-a78d-4ffc-a23b-831d8bb9cd8e button.colab-df-convert');\n",
              "        buttonEl.style.display =\n",
              "          google.colab.kernel.accessAllowed ? 'block' : 'none';\n",
              "\n",
              "        async function convertToInteractive(key) {\n",
              "          const element = document.querySelector('#df-d68346c3-a78d-4ffc-a23b-831d8bb9cd8e');\n",
              "          const dataTable =\n",
              "            await google.colab.kernel.invokeFunction('convertToInteractive',\n",
              "                                                     [key], {});\n",
              "          if (!dataTable) return;\n",
              "\n",
              "          const docLinkHtml = 'Like what you see? Visit the ' +\n",
              "            '<a target=\"_blank\" href=https://colab.research.google.com/notebooks/data_table.ipynb>data table notebook</a>'\n",
              "            + ' to learn more about interactive tables.';\n",
              "          element.innerHTML = '';\n",
              "          dataTable['output_type'] = 'display_data';\n",
              "          await google.colab.output.renderOutput(dataTable, element);\n",
              "          const docLink = document.createElement('div');\n",
              "          docLink.innerHTML = docLinkHtml;\n",
              "          element.appendChild(docLink);\n",
              "        }\n",
              "      </script>\n",
              "    </div>\n",
              "  </div>\n",
              "  "
            ]
          },
          "metadata": {},
          "execution_count": 7
        }
      ]
    },
    {
      "cell_type": "code",
      "source": [
        "df.tail()"
      ],
      "metadata": {
        "colab": {
          "base_uri": "https://localhost:8080/",
          "height": 206
        },
        "id": "5ZdQNbf1IFoq",
        "outputId": "374d06ca-a555-4cc8-d619-f74a974ccbbe"
      },
      "execution_count": 8,
      "outputs": [
        {
          "output_type": "execute_result",
          "data": {
            "text/plain": [
              "     symbol                       date   close      high      low     open  \\\n",
              "1253   AAPL  2023-03-03 00:00:00+00:00  151.03  151.1100  147.330  148.045   \n",
              "1254   AAPL  2023-03-06 00:00:00+00:00  153.83  156.3000  153.460  153.785   \n",
              "1255   AAPL  2023-03-07 00:00:00+00:00  151.60  154.0299  151.130  153.700   \n",
              "1256   AAPL  2023-03-08 00:00:00+00:00  152.87  153.4700  151.830  152.810   \n",
              "1257   AAPL  2023-03-09 00:00:00+00:00  150.59  154.5350  150.225  153.559   \n",
              "\n",
              "        volume  adjClose   adjHigh   adjLow  adjOpen  adjVolume  divCash  \\\n",
              "1253  70732297    151.03  151.1100  147.330  148.045   70732297      0.0   \n",
              "1254  87558028    153.83  156.3000  153.460  153.785   87558028      0.0   \n",
              "1255  56182028    151.60  154.0299  151.130  153.700   56182028      0.0   \n",
              "1256  47204791    152.87  153.4700  151.830  152.810   47204791      0.0   \n",
              "1257  53833582    150.59  154.5350  150.225  153.559   53833582      0.0   \n",
              "\n",
              "      splitFactor  \n",
              "1253          1.0  \n",
              "1254          1.0  \n",
              "1255          1.0  \n",
              "1256          1.0  \n",
              "1257          1.0  "
            ],
            "text/html": [
              "\n",
              "  <div id=\"df-b5bba7c1-cae9-43e9-ae80-9fad8f4d73aa\">\n",
              "    <div class=\"colab-df-container\">\n",
              "      <div>\n",
              "<style scoped>\n",
              "    .dataframe tbody tr th:only-of-type {\n",
              "        vertical-align: middle;\n",
              "    }\n",
              "\n",
              "    .dataframe tbody tr th {\n",
              "        vertical-align: top;\n",
              "    }\n",
              "\n",
              "    .dataframe thead th {\n",
              "        text-align: right;\n",
              "    }\n",
              "</style>\n",
              "<table border=\"1\" class=\"dataframe\">\n",
              "  <thead>\n",
              "    <tr style=\"text-align: right;\">\n",
              "      <th></th>\n",
              "      <th>symbol</th>\n",
              "      <th>date</th>\n",
              "      <th>close</th>\n",
              "      <th>high</th>\n",
              "      <th>low</th>\n",
              "      <th>open</th>\n",
              "      <th>volume</th>\n",
              "      <th>adjClose</th>\n",
              "      <th>adjHigh</th>\n",
              "      <th>adjLow</th>\n",
              "      <th>adjOpen</th>\n",
              "      <th>adjVolume</th>\n",
              "      <th>divCash</th>\n",
              "      <th>splitFactor</th>\n",
              "    </tr>\n",
              "  </thead>\n",
              "  <tbody>\n",
              "    <tr>\n",
              "      <th>1253</th>\n",
              "      <td>AAPL</td>\n",
              "      <td>2023-03-03 00:00:00+00:00</td>\n",
              "      <td>151.03</td>\n",
              "      <td>151.1100</td>\n",
              "      <td>147.330</td>\n",
              "      <td>148.045</td>\n",
              "      <td>70732297</td>\n",
              "      <td>151.03</td>\n",
              "      <td>151.1100</td>\n",
              "      <td>147.330</td>\n",
              "      <td>148.045</td>\n",
              "      <td>70732297</td>\n",
              "      <td>0.0</td>\n",
              "      <td>1.0</td>\n",
              "    </tr>\n",
              "    <tr>\n",
              "      <th>1254</th>\n",
              "      <td>AAPL</td>\n",
              "      <td>2023-03-06 00:00:00+00:00</td>\n",
              "      <td>153.83</td>\n",
              "      <td>156.3000</td>\n",
              "      <td>153.460</td>\n",
              "      <td>153.785</td>\n",
              "      <td>87558028</td>\n",
              "      <td>153.83</td>\n",
              "      <td>156.3000</td>\n",
              "      <td>153.460</td>\n",
              "      <td>153.785</td>\n",
              "      <td>87558028</td>\n",
              "      <td>0.0</td>\n",
              "      <td>1.0</td>\n",
              "    </tr>\n",
              "    <tr>\n",
              "      <th>1255</th>\n",
              "      <td>AAPL</td>\n",
              "      <td>2023-03-07 00:00:00+00:00</td>\n",
              "      <td>151.60</td>\n",
              "      <td>154.0299</td>\n",
              "      <td>151.130</td>\n",
              "      <td>153.700</td>\n",
              "      <td>56182028</td>\n",
              "      <td>151.60</td>\n",
              "      <td>154.0299</td>\n",
              "      <td>151.130</td>\n",
              "      <td>153.700</td>\n",
              "      <td>56182028</td>\n",
              "      <td>0.0</td>\n",
              "      <td>1.0</td>\n",
              "    </tr>\n",
              "    <tr>\n",
              "      <th>1256</th>\n",
              "      <td>AAPL</td>\n",
              "      <td>2023-03-08 00:00:00+00:00</td>\n",
              "      <td>152.87</td>\n",
              "      <td>153.4700</td>\n",
              "      <td>151.830</td>\n",
              "      <td>152.810</td>\n",
              "      <td>47204791</td>\n",
              "      <td>152.87</td>\n",
              "      <td>153.4700</td>\n",
              "      <td>151.830</td>\n",
              "      <td>152.810</td>\n",
              "      <td>47204791</td>\n",
              "      <td>0.0</td>\n",
              "      <td>1.0</td>\n",
              "    </tr>\n",
              "    <tr>\n",
              "      <th>1257</th>\n",
              "      <td>AAPL</td>\n",
              "      <td>2023-03-09 00:00:00+00:00</td>\n",
              "      <td>150.59</td>\n",
              "      <td>154.5350</td>\n",
              "      <td>150.225</td>\n",
              "      <td>153.559</td>\n",
              "      <td>53833582</td>\n",
              "      <td>150.59</td>\n",
              "      <td>154.5350</td>\n",
              "      <td>150.225</td>\n",
              "      <td>153.559</td>\n",
              "      <td>53833582</td>\n",
              "      <td>0.0</td>\n",
              "      <td>1.0</td>\n",
              "    </tr>\n",
              "  </tbody>\n",
              "</table>\n",
              "</div>\n",
              "      <button class=\"colab-df-convert\" onclick=\"convertToInteractive('df-b5bba7c1-cae9-43e9-ae80-9fad8f4d73aa')\"\n",
              "              title=\"Convert this dataframe to an interactive table.\"\n",
              "              style=\"display:none;\">\n",
              "        \n",
              "  <svg xmlns=\"http://www.w3.org/2000/svg\" height=\"24px\"viewBox=\"0 0 24 24\"\n",
              "       width=\"24px\">\n",
              "    <path d=\"M0 0h24v24H0V0z\" fill=\"none\"/>\n",
              "    <path d=\"M18.56 5.44l.94 2.06.94-2.06 2.06-.94-2.06-.94-.94-2.06-.94 2.06-2.06.94zm-11 1L8.5 8.5l.94-2.06 2.06-.94-2.06-.94L8.5 2.5l-.94 2.06-2.06.94zm10 10l.94 2.06.94-2.06 2.06-.94-2.06-.94-.94-2.06-.94 2.06-2.06.94z\"/><path d=\"M17.41 7.96l-1.37-1.37c-.4-.4-.92-.59-1.43-.59-.52 0-1.04.2-1.43.59L10.3 9.45l-7.72 7.72c-.78.78-.78 2.05 0 2.83L4 21.41c.39.39.9.59 1.41.59.51 0 1.02-.2 1.41-.59l7.78-7.78 2.81-2.81c.8-.78.8-2.07 0-2.86zM5.41 20L4 18.59l7.72-7.72 1.47 1.35L5.41 20z\"/>\n",
              "  </svg>\n",
              "      </button>\n",
              "      \n",
              "  <style>\n",
              "    .colab-df-container {\n",
              "      display:flex;\n",
              "      flex-wrap:wrap;\n",
              "      gap: 12px;\n",
              "    }\n",
              "\n",
              "    .colab-df-convert {\n",
              "      background-color: #E8F0FE;\n",
              "      border: none;\n",
              "      border-radius: 50%;\n",
              "      cursor: pointer;\n",
              "      display: none;\n",
              "      fill: #1967D2;\n",
              "      height: 32px;\n",
              "      padding: 0 0 0 0;\n",
              "      width: 32px;\n",
              "    }\n",
              "\n",
              "    .colab-df-convert:hover {\n",
              "      background-color: #E2EBFA;\n",
              "      box-shadow: 0px 1px 2px rgba(60, 64, 67, 0.3), 0px 1px 3px 1px rgba(60, 64, 67, 0.15);\n",
              "      fill: #174EA6;\n",
              "    }\n",
              "\n",
              "    [theme=dark] .colab-df-convert {\n",
              "      background-color: #3B4455;\n",
              "      fill: #D2E3FC;\n",
              "    }\n",
              "\n",
              "    [theme=dark] .colab-df-convert:hover {\n",
              "      background-color: #434B5C;\n",
              "      box-shadow: 0px 1px 3px 1px rgba(0, 0, 0, 0.15);\n",
              "      filter: drop-shadow(0px 1px 2px rgba(0, 0, 0, 0.3));\n",
              "      fill: #FFFFFF;\n",
              "    }\n",
              "  </style>\n",
              "\n",
              "      <script>\n",
              "        const buttonEl =\n",
              "          document.querySelector('#df-b5bba7c1-cae9-43e9-ae80-9fad8f4d73aa button.colab-df-convert');\n",
              "        buttonEl.style.display =\n",
              "          google.colab.kernel.accessAllowed ? 'block' : 'none';\n",
              "\n",
              "        async function convertToInteractive(key) {\n",
              "          const element = document.querySelector('#df-b5bba7c1-cae9-43e9-ae80-9fad8f4d73aa');\n",
              "          const dataTable =\n",
              "            await google.colab.kernel.invokeFunction('convertToInteractive',\n",
              "                                                     [key], {});\n",
              "          if (!dataTable) return;\n",
              "\n",
              "          const docLinkHtml = 'Like what you see? Visit the ' +\n",
              "            '<a target=\"_blank\" href=https://colab.research.google.com/notebooks/data_table.ipynb>data table notebook</a>'\n",
              "            + ' to learn more about interactive tables.';\n",
              "          element.innerHTML = '';\n",
              "          dataTable['output_type'] = 'display_data';\n",
              "          await google.colab.output.renderOutput(dataTable, element);\n",
              "          const docLink = document.createElement('div');\n",
              "          docLink.innerHTML = docLinkHtml;\n",
              "          element.appendChild(docLink);\n",
              "        }\n",
              "      </script>\n",
              "    </div>\n",
              "  </div>\n",
              "  "
            ]
          },
          "metadata": {},
          "execution_count": 8
        }
      ]
    },
    {
      "cell_type": "code",
      "source": [
        "df2 = df.reset_index()['close']"
      ],
      "metadata": {
        "id": "XmyGj_wuGbW4"
      },
      "execution_count": 9,
      "outputs": []
    },
    {
      "cell_type": "code",
      "source": [
        "df2.shape"
      ],
      "metadata": {
        "colab": {
          "base_uri": "https://localhost:8080/"
        },
        "id": "4vM1gPlRGbcq",
        "outputId": "515c2816-badf-4165-c636-71f19f3f4b96"
      },
      "execution_count": 10,
      "outputs": [
        {
          "output_type": "execute_result",
          "data": {
            "text/plain": [
              "(1258,)"
            ]
          },
          "metadata": {},
          "execution_count": 10
        }
      ]
    },
    {
      "cell_type": "code",
      "source": [
        "import matplotlib.pyplot as plt"
      ],
      "metadata": {
        "id": "s_ZtmROYGbfG"
      },
      "execution_count": 11,
      "outputs": []
    },
    {
      "cell_type": "code",
      "source": [
        "plt.plot(df2)"
      ],
      "metadata": {
        "colab": {
          "base_uri": "https://localhost:8080/",
          "height": 282
        },
        "id": "e_9nibAZGbh7",
        "outputId": "713a5254-719f-4645-fbcc-af935a6feb81"
      },
      "execution_count": 12,
      "outputs": [
        {
          "output_type": "execute_result",
          "data": {
            "text/plain": [
              "[<matplotlib.lines.Line2D at 0x7f013f467fa0>]"
            ]
          },
          "metadata": {},
          "execution_count": 12
        },
        {
          "output_type": "display_data",
          "data": {
            "text/plain": [
              "<Figure size 432x288 with 1 Axes>"
            ],
            "image/png": "[encoded data removed]"
          },
          "metadata": {
            "needs_background": "light"
          }
        }
      ]
    },
    {
      "cell_type": "code",
      "source": [
        "import numpy as np "
      ],
      "metadata": {
        "id": "BnYwEkXxGbkY"
      },
      "execution_count": 13,
      "outputs": []
    },
    {
      "cell_type": "code",
      "source": [
        "from sklearn.preprocessing import MinMaxScaler\n",
        "Scaler = MinMaxScaler(feature_range = (0,1))\n",
        "df2 = Scaler.fit_transform(np.array(df2).reshape(-1,1))\n"
      ],
      "metadata": {
        "id": "xoAR97arGbn3"
      },
      "execution_count": 14,
      "outputs": []
    },
    {
      "cell_type": "markdown",
      "source": [],
      "metadata": {
        "id": "yJQvY_jxFMg-"
      }
    },
    {
      "cell_type": "code",
      "source": [
        "df2.shape"
      ],
      "metadata": {
        "colab": {
          "base_uri": "https://localhost:8080/"
        },
        "id": "43FQ7p2XKsgd",
        "outputId": "36d75fe1-5778-4acd-b95a-62aae9f43a5a"
      },
      "execution_count": 15,
      "outputs": [
        {
          "output_type": "execute_result",
          "data": {
            "text/plain": [
              "(1258, 1)"
            ]
          },
          "metadata": {},
          "execution_count": 15
        }
      ]
    },
    {
      "cell_type": "code",
      "source": [
        "training_size = int(len(df2)*0.65)\n",
        "test_size = len(df2) - training_size \n",
        "training_data, test_data = df2[0:training_size,:],df2[training_size:len(df2),:]"
      ],
      "metadata": {
        "id": "9QxNo9xQKuIa"
      },
      "execution_count": 16,
      "outputs": []
    },
    {
      "cell_type": "code",
      "source": [
        "training_size,test_size"
      ],
      "metadata": {
        "colab": {
          "base_uri": "https://localhost:8080/"
        },
        "id": "j-XE46RtKuUX",
        "outputId": "561163a8-1503-401f-ecc7-b27f573e5304"
      },
      "execution_count": 17,
      "outputs": [
        {
          "output_type": "execute_result",
          "data": {
            "text/plain": [
              "(817, 441)"
            ]
          },
          "metadata": {},
          "execution_count": 17
        }
      ]
    },
    {
      "cell_type": "code",
      "source": [
        "import numpy\n",
        "def create_dataset(dataset, time_step =1):\n",
        "  dataX,dataY= [],[]\n",
        "  for i in range(len(dataset)-time_step-1):\n",
        "    a = dataset[i:(i+time_step),0]\n",
        "    dataX.append(a)\n",
        "    dataY.append(dataset[i+time_step,0])\n",
        "  return numpy.array(dataX),numpy.array(dataY)\n",
        "\n"
      ],
      "metadata": {
        "id": "8GLsT31-RA5O"
      },
      "execution_count": 18,
      "outputs": []
    },
    {
      "cell_type": "code",
      "source": [
        "time_step = 100\n",
        "xtrain, ytrain = create_dataset(training_data,time_step)\n",
        "xtest,ytest = create_dataset(test_data,time_step)"
      ],
      "metadata": {
        "id": "yJb6JPxfV8jO"
      },
      "execution_count": 19,
      "outputs": []
    },
    {
      "cell_type": "code",
      "source": [
        "#Reshaping the train and test data inorder to suit to LSTM \n",
        "xtrain = xtrain.reshape(xtrain.shape[0],xtrain.shape[1],1)\n",
        "xtest = xtest.reshape(xtest.shape[0],xtest.shape[1],1)"
      ],
      "metadata": {
        "id": "eXKoinGlWtKj"
      },
      "execution_count": 20,
      "outputs": []
    },
    {
      "cell_type": "code",
      "source": [
        "from tensorflow.keras.models import Sequential\n",
        "from tensorflow.keras.layers import Dense\n",
        "from tensorflow.keras.layers import LSTM"
      ],
      "metadata": {
        "id": "RTrqdm0sYmq6"
      },
      "execution_count": 21,
      "outputs": []
    },
    {
      "cell_type": "code",
      "source": [
        "model = Sequential()\n",
        "model.add(LSTM(50,return_sequences=True,input_shape=(100,1)))\n",
        "model.add(LSTM(50,return_sequences= True))\n",
        "model.add(LSTM(50))\n",
        "model.add(Dense(1))\n",
        "model.compile(loss= 'mean_squared_error',optimizer= 'adam')"
      ],
      "metadata": {
        "id": "txNDekWDY7z5"
      },
      "execution_count": 22,
      "outputs": []
    },
    {
      "cell_type": "code",
      "source": [
        "model.summary()"
      ],
      "metadata": {
        "colab": {
          "base_uri": "https://localhost:8080/"
        },
        "id": "gsimmvgkai24",
        "outputId": "d0f6cc14-9163-4cce-9336-4d743b5ba186"
      },
      "execution_count": 23,
      "outputs": [
        {
          "output_type": "stream",
          "name": "stdout",
          "text": [
            "Model: \"sequential\"\n",
            "_________________________________________________________________\n",
            " Layer (type)                Output Shape              Param #   \n",
            "=================================================================\n",
            " lstm (LSTM)                 (None, 100, 50)           10400     \n",
            "                                                                 \n",
            " lstm_1 (LSTM)               (None, 100, 50)           20200     \n",
            "                                                                 \n",
            " lstm_2 (LSTM)               (None, 50)                20200     \n",
            "                                                                 \n",
            " dense (Dense)               (None, 1)                 51        \n",
            "                                                                 \n",
            "=================================================================\n",
            "Total params: 50,851\n",
            "Trainable params: 50,851\n",
            "Non-trainable params: 0\n",
            "_________________________________________________________________\n"
          ]
        }
      ]
    },
    {
      "cell_type": "code",
      "source": [
        "model.fit(xtrain,ytrain,validation_data = (xtest,ytest),epochs =100, batch_size =64,verbose=1)"
      ],
      "metadata": {
        "colab": {
          "base_uri": "https://localhost:8080/"
        },
        "id": "yMveLrivarMx",
        "outputId": "f09332da-8f65-4e1f-9197-984d713f4382"
      },
      "execution_count": 24,
      "outputs": [
        {
          "output_type": "stream",
          "name": "stdout",
          "text": [
            "Epoch 1/100\n",
            "12/12 [==============================] - 14s 343ms/step - loss: 0.0432 - val_loss: 0.0018\n",
            "Epoch 2/100\n",
            "12/12 [==============================] - 3s 218ms/step - loss: 0.0176 - val_loss: 0.0066\n",
            "Epoch 3/100\n",
            "12/12 [==============================] - 3s 262ms/step - loss: 0.0111 - val_loss: 4.1366e-04\n",
            "Epoch 4/100\n",
            "12/12 [==============================] - 3s 259ms/step - loss: 0.0096 - val_loss: 4.9397e-04\n",
            "Epoch 5/100\n",
            "12/12 [==============================] - 3s 222ms/step - loss: 0.0089 - val_loss: 0.0013\n",
            "Epoch 6/100\n",
            "12/12 [==============================] - 3s 223ms/step - loss: 0.0071 - val_loss: 3.5082e-04\n",
            "Epoch 7/100\n",
            "12/12 [==============================] - 3s 220ms/step - loss: 0.0065 - val_loss: 5.1210e-04\n",
            "Epoch 8/100\n",
            "12/12 [==============================] - 4s 328ms/step - loss: 0.0062 - val_loss: 5.8479e-04\n",
            "Epoch 9/100\n",
            "12/12 [==============================] - 3s 214ms/step - loss: 0.0056 - val_loss: 3.4252e-04\n",
            "Epoch 10/100\n",
            "12/12 [==============================] - 3s 216ms/step - loss: 0.0051 - val_loss: 4.3217e-04\n",
            "Epoch 11/100\n",
            "12/12 [==============================] - 3s 218ms/step - loss: 0.0048 - val_loss: 4.9869e-04\n",
            "Epoch 12/100\n",
            "12/12 [==============================] - 3s 258ms/step - loss: 0.0047 - val_loss: 3.3797e-04\n",
            "Epoch 13/100\n",
            "12/12 [==============================] - 3s 272ms/step - loss: 0.0038 - val_loss: 3.0142e-04\n",
            "Epoch 14/100\n",
            "12/12 [==============================] - 3s 216ms/step - loss: 0.0039 - val_loss: 3.4244e-04\n",
            "Epoch 15/100\n",
            "12/12 [==============================] - 3s 218ms/step - loss: 0.0034 - val_loss: 3.1899e-04\n",
            "Epoch 16/100\n",
            "12/12 [==============================] - 3s 221ms/step - loss: 0.0033 - val_loss: 3.4435e-04\n",
            "Epoch 17/100\n",
            "12/12 [==============================] - 4s 330ms/step - loss: 0.0041 - val_loss: 4.9512e-04\n",
            "Epoch 18/100\n",
            "12/12 [==============================] - 3s 222ms/step - loss: 0.0038 - val_loss: 3.2319e-04\n",
            "Epoch 19/100\n",
            "12/12 [==============================] - 3s 217ms/step - loss: 0.0034 - val_loss: 2.8970e-04\n",
            "Epoch 20/100\n",
            "12/12 [==============================] - 3s 222ms/step - loss: 0.0028 - val_loss: 3.4039e-04\n",
            "Epoch 21/100\n",
            "12/12 [==============================] - 3s 266ms/step - loss: 0.0027 - val_loss: 3.2732e-04\n",
            "Epoch 22/100\n",
            "12/12 [==============================] - 3s 270ms/step - loss: 0.0029 - val_loss: 5.5778e-04\n",
            "Epoch 23/100\n",
            "12/12 [==============================] - 3s 223ms/step - loss: 0.0026 - val_loss: 2.5715e-04\n",
            "Epoch 24/100\n",
            "12/12 [==============================] - 3s 230ms/step - loss: 0.0027 - val_loss: 3.7875e-04\n",
            "Epoch 25/100\n",
            "12/12 [==============================] - 3s 228ms/step - loss: 0.0026 - val_loss: 3.0949e-04\n",
            "Epoch 26/100\n",
            "12/12 [==============================] - 4s 329ms/step - loss: 0.0020 - val_loss: 3.2847e-04\n",
            "Epoch 27/100\n",
            "12/12 [==============================] - 3s 224ms/step - loss: 0.0022 - val_loss: 2.6548e-04\n",
            "Epoch 28/100\n",
            "12/12 [==============================] - 3s 228ms/step - loss: 0.0021 - val_loss: 2.6454e-04\n",
            "Epoch 29/100\n",
            "12/12 [==============================] - 4s 375ms/step - loss: 0.0026 - val_loss: 3.9022e-04\n",
            "Epoch 30/100\n",
            "12/12 [==============================] - 4s 301ms/step - loss: 0.0024 - val_loss: 2.5109e-04\n",
            "Epoch 31/100\n",
            "12/12 [==============================] - 3s 229ms/step - loss: 0.0023 - val_loss: 2.6475e-04\n",
            "Epoch 32/100\n",
            "12/12 [==============================] - 3s 224ms/step - loss: 0.0022 - val_loss: 6.3139e-04\n",
            "Epoch 33/100\n",
            "12/12 [==============================] - 3s 221ms/step - loss: 0.0019 - val_loss: 2.5836e-04\n",
            "Epoch 34/100\n",
            "12/12 [==============================] - 4s 330ms/step - loss: 0.0024 - val_loss: 3.1354e-04\n",
            "Epoch 35/100\n",
            "12/12 [==============================] - 3s 224ms/step - loss: 0.0027 - val_loss: 2.6653e-04\n",
            "Epoch 36/100\n",
            "12/12 [==============================] - 3s 228ms/step - loss: 0.0019 - val_loss: 2.6184e-04\n",
            "Epoch 37/100\n",
            "12/12 [==============================] - 3s 229ms/step - loss: 0.0018 - val_loss: 2.8831e-04\n",
            "Epoch 38/100\n",
            "12/12 [==============================] - 3s 272ms/step - loss: 0.0018 - val_loss: 2.4873e-04\n",
            "Epoch 39/100\n",
            "12/12 [==============================] - 3s 271ms/step - loss: 0.0020 - val_loss: 2.7062e-04\n",
            "Epoch 40/100\n",
            "12/12 [==============================] - 3s 254ms/step - loss: 0.0016 - val_loss: 2.6462e-04\n",
            "Epoch 41/100\n",
            "12/12 [==============================] - 3s 227ms/step - loss: 0.0018 - val_loss: 2.9938e-04\n",
            "Epoch 42/100\n",
            "12/12 [==============================] - 3s 245ms/step - loss: 0.0015 - val_loss: 2.6729e-04\n",
            "Epoch 43/100\n",
            "12/12 [==============================] - 4s 294ms/step - loss: 0.0014 - val_loss: 2.9009e-04\n",
            "Epoch 44/100\n",
            "12/12 [==============================] - 3s 223ms/step - loss: 0.0015 - val_loss: 2.6153e-04\n",
            "Epoch 45/100\n",
            "12/12 [==============================] - 3s 227ms/step - loss: 0.0024 - val_loss: 3.0776e-04\n",
            "Epoch 46/100\n",
            "12/12 [==============================] - 3s 222ms/step - loss: 0.0022 - val_loss: 3.8741e-04\n",
            "Epoch 47/100\n",
            "12/12 [==============================] - 4s 324ms/step - loss: 0.0036 - val_loss: 8.9719e-04\n",
            "Epoch 48/100\n",
            "12/12 [==============================] - 3s 232ms/step - loss: 0.0016 - val_loss: 4.7431e-04\n",
            "Epoch 49/100\n",
            "12/12 [==============================] - 3s 227ms/step - loss: 0.0017 - val_loss: 2.8154e-04\n",
            "Epoch 50/100\n",
            "12/12 [==============================] - 3s 225ms/step - loss: 0.0015 - val_loss: 3.3794e-04\n",
            "Epoch 51/100\n",
            "12/12 [==============================] - 3s 272ms/step - loss: 0.0017 - val_loss: 4.1804e-04\n",
            "Epoch 52/100\n",
            "12/12 [==============================] - 3s 268ms/step - loss: 0.0022 - val_loss: 4.1183e-04\n",
            "Epoch 53/100\n",
            "12/12 [==============================] - 3s 232ms/step - loss: 0.0028 - val_loss: 5.3938e-04\n",
            "Epoch 54/100\n",
            "12/12 [==============================] - 3s 231ms/step - loss: 0.0021 - val_loss: 3.3710e-04\n",
            "Epoch 55/100\n",
            "12/12 [==============================] - 3s 228ms/step - loss: 0.0021 - val_loss: 2.8936e-04\n",
            "Epoch 56/100\n",
            "12/12 [==============================] - 4s 319ms/step - loss: 0.0017 - val_loss: 3.3736e-04\n",
            "Epoch 57/100\n",
            "12/12 [==============================] - 3s 227ms/step - loss: 0.0016 - val_loss: 2.4671e-04\n",
            "Epoch 58/100\n",
            "12/12 [==============================] - 3s 227ms/step - loss: 0.0019 - val_loss: 4.0025e-04\n",
            "Epoch 59/100\n",
            "12/12 [==============================] - 3s 228ms/step - loss: 0.0016 - val_loss: 2.6457e-04\n",
            "Epoch 60/100\n",
            "12/12 [==============================] - 4s 311ms/step - loss: 0.0024 - val_loss: 2.4809e-04\n",
            "Epoch 61/100\n",
            "12/12 [==============================] - 3s 231ms/step - loss: 0.0022 - val_loss: 3.5743e-04\n",
            "Epoch 62/100\n",
            "12/12 [==============================] - 3s 225ms/step - loss: 0.0016 - val_loss: 3.3263e-04\n",
            "Epoch 63/100\n",
            "12/12 [==============================] - 3s 229ms/step - loss: 0.0018 - val_loss: 2.8269e-04\n",
            "Epoch 64/100\n",
            "12/12 [==============================] - 3s 253ms/step - loss: 0.0015 - val_loss: 2.8028e-04\n",
            "Epoch 65/100\n",
            "12/12 [==============================] - 3s 283ms/step - loss: 0.0014 - val_loss: 2.5284e-04\n",
            "Epoch 66/100\n",
            "12/12 [==============================] - 3s 229ms/step - loss: 0.0016 - val_loss: 2.8563e-04\n",
            "Epoch 67/100\n",
            "12/12 [==============================] - 3s 226ms/step - loss: 0.0037 - val_loss: 7.8503e-04\n",
            "Epoch 68/100\n",
            "12/12 [==============================] - 3s 232ms/step - loss: 0.0026 - val_loss: 3.9311e-04\n",
            "Epoch 69/100\n",
            "12/12 [==============================] - 4s 335ms/step - loss: 0.0022 - val_loss: 4.0584e-04\n",
            "Epoch 70/100\n",
            "12/12 [==============================] - 3s 229ms/step - loss: 0.0023 - val_loss: 2.8851e-04\n",
            "Epoch 71/100\n",
            "12/12 [==============================] - 3s 228ms/step - loss: 0.0017 - val_loss: 2.4111e-04\n",
            "Epoch 72/100\n",
            "12/12 [==============================] - 3s 232ms/step - loss: 0.0015 - val_loss: 2.3480e-04\n",
            "Epoch 73/100\n",
            "12/12 [==============================] - 4s 329ms/step - loss: 0.0018 - val_loss: 2.8737e-04\n",
            "Epoch 74/100\n",
            "12/12 [==============================] - 3s 231ms/step - loss: 0.0030 - val_loss: 4.4168e-04\n",
            "Epoch 75/100\n",
            "12/12 [==============================] - 3s 233ms/step - loss: 0.0026 - val_loss: 2.3883e-04\n",
            "Epoch 76/100\n",
            "12/12 [==============================] - 3s 229ms/step - loss: 0.0023 - val_loss: 2.3805e-04\n",
            "Epoch 77/100\n",
            "12/12 [==============================] - 3s 287ms/step - loss: 0.0017 - val_loss: 2.7143e-04\n",
            "Epoch 78/100\n",
            "12/12 [==============================] - 3s 264ms/step - loss: 0.0017 - val_loss: 2.5542e-04\n",
            "Epoch 79/100\n",
            "12/12 [==============================] - 3s 233ms/step - loss: 0.0020 - val_loss: 3.5341e-04\n",
            "Epoch 80/100\n",
            "12/12 [==============================] - 3s 227ms/step - loss: 0.0018 - val_loss: 2.7986e-04\n",
            "Epoch 81/100\n",
            "12/12 [==============================] - 3s 251ms/step - loss: 0.0017 - val_loss: 2.8805e-04\n",
            "Epoch 82/100\n",
            "12/12 [==============================] - 4s 299ms/step - loss: 0.0015 - val_loss: 3.7830e-04\n",
            "Epoch 83/100\n",
            "12/12 [==============================] - 3s 223ms/step - loss: 0.0013 - val_loss: 2.3908e-04\n",
            "Epoch 84/100\n",
            "12/12 [==============================] - 3s 226ms/step - loss: 0.0024 - val_loss: 2.9407e-04\n",
            "Epoch 85/100\n",
            "12/12 [==============================] - 3s 232ms/step - loss: 0.0030 - val_loss: 2.4849e-04\n",
            "Epoch 86/100\n",
            "12/12 [==============================] - 4s 334ms/step - loss: 0.0020 - val_loss: 2.6539e-04\n",
            "Epoch 87/100\n",
            "12/12 [==============================] - 3s 228ms/step - loss: 0.0014 - val_loss: 2.3318e-04\n",
            "Epoch 88/100\n",
            "12/12 [==============================] - 3s 231ms/step - loss: 0.0015 - val_loss: 2.4544e-04\n",
            "Epoch 89/100\n",
            "12/12 [==============================] - 3s 231ms/step - loss: 0.0012 - val_loss: 2.3400e-04\n",
            "Epoch 90/100\n",
            "12/12 [==============================] - 3s 298ms/step - loss: 0.0013 - val_loss: 2.3473e-04\n",
            "Epoch 91/100\n",
            "12/12 [==============================] - 3s 244ms/step - loss: 0.0015 - val_loss: 2.3182e-04\n",
            "Epoch 92/100\n",
            "12/12 [==============================] - 3s 227ms/step - loss: 0.0010 - val_loss: 2.3470e-04\n",
            "Epoch 93/100\n",
            "12/12 [==============================] - 3s 226ms/step - loss: 0.0013 - val_loss: 2.3477e-04\n",
            "Epoch 94/100\n",
            "12/12 [==============================] - 3s 239ms/step - loss: 0.0013 - val_loss: 3.1012e-04\n",
            "Epoch 95/100\n",
            "12/12 [==============================] - 4s 311ms/step - loss: 0.0012 - val_loss: 2.4007e-04\n",
            "Epoch 96/100\n",
            "12/12 [==============================] - 3s 232ms/step - loss: 0.0011 - val_loss: 2.4809e-04\n",
            "Epoch 97/100\n",
            "12/12 [==============================] - 3s 229ms/step - loss: 0.0012 - val_loss: 2.6596e-04\n",
            "Epoch 98/100\n",
            "12/12 [==============================] - 3s 226ms/step - loss: 0.0011 - val_loss: 2.4031e-04\n",
            "Epoch 99/100\n",
            "12/12 [==============================] - 4s 332ms/step - loss: 0.0015 - val_loss: 2.4701e-04\n",
            "Epoch 100/100\n",
            "12/12 [==============================] - 3s 230ms/step - loss: 0.0012 - val_loss: 3.1827e-04\n"
          ]
        },
        {
          "output_type": "execute_result",
          "data": {
            "text/plain": [
              "<keras.callbacks.History at 0x7f00d9ceba00>"
            ]
          },
          "metadata": {},
          "execution_count": 24
        }
      ]
    },
    {
      "cell_type": "code",
      "source": [
        "train_predict = model.predict(xtrain)\n",
        "test_predict = model.predict(xtest)"
      ],
      "metadata": {
        "colab": {
          "base_uri": "https://localhost:8080/"
        },
        "id": "E65ecUN1bUWd",
        "outputId": "d045c1dc-df29-4526-a35e-7e09f6b3420e"
      },
      "execution_count": 25,
      "outputs": [
        {
          "output_type": "stream",
          "name": "stdout",
          "text": [
            "23/23 [==============================] - 2s 46ms/step\n",
            "11/11 [==============================] - 0s 43ms/step\n"
          ]
        }
      ]
    },
    {
      "cell_type": "code",
      "source": [
        "train_predict = Scaler.inverse_transform(train_predict)\n",
        "test_predict = Scaler.inverse_transform(test_predict)"
      ],
      "metadata": {
        "id": "0r0iUjm__N6N"
      },
      "execution_count": 26,
      "outputs": []
    },
    {
      "cell_type": "code",
      "source": [
        "import math \n",
        "from sklearn.metrics import mean_squared_error \n",
        "math.sqrt(mean_squared_error(ytrain,train_predict))"
      ],
      "metadata": {
        "colab": {
          "base_uri": "https://localhost:8080/"
        },
        "id": "vtzqcIMCB17e",
        "outputId": "f06e2c2f-7324-4fac-f6d4-38280aaef353"
      },
      "execution_count": 27,
      "outputs": [
        {
          "output_type": "execute_result",
          "data": {
            "text/plain": [
              "222.4472097277511"
            ]
          },
          "metadata": {},
          "execution_count": 27
        }
      ]
    },
    {
      "cell_type": "code",
      "source": [
        "math.sqrt(mean_squared_error(ytest,test_predict))"
      ],
      "metadata": {
        "colab": {
          "base_uri": "https://localhost:8080/"
        },
        "id": "TcY11i7cCmZ2",
        "outputId": "3869fef8-61cc-4eaf-bd6e-dff3e2409893"
      },
      "execution_count": 28,
      "outputs": [
        {
          "output_type": "execute_result",
          "data": {
            "text/plain": [
              "151.2287480749512"
            ]
          },
          "metadata": {},
          "execution_count": 28
        }
      ]
    },
    {
      "cell_type": "code",
      "source": [
        "look_back = 100\n",
        "trainPredictplot = numpy.empty_like(df2)\n",
        "trainPredictplot[:,:] = np.nan\n",
        "trainPredictplot[look_back:len(train_predict)+look_back,:] = train_predict\n",
        "testPredictplot = numpy.empty_like(df2)\n",
        "testPredictplot[:,:] = np.nan\n",
        "testPredictplot[len(train_predict)+(look_back*2)+1:len(df2)-1,:] = test_predict\n",
        "plt.plot(Scaler.inverse_transform(df2))\n",
        "plt.plot(trainPredictplot)\n",
        "plt.show()\n"
      ],
      "metadata": {
        "colab": {
          "base_uri": "https://localhost:8080/",
          "height": 265
        },
        "id": "Tqtrt_MlC5QN",
        "outputId": "2bfbdd80-01ea-4348-8f8b-9953040efffa"
      },
      "execution_count": 29,
      "outputs": [
        {
          "output_type": "display_data",
          "data": {
            "text/plain": [
              "<Figure size 432x288 with 1 Axes>"
            ],
            "image/png": "[encoded data removed]"
          },
          "metadata": {
            "needs_background": "light"
          }
        }
      ]
    },
    {
      "cell_type": "code",
      "source": [
        "X_input = test_data[341:].reshape(1,-1)"
      ],
      "metadata": {
        "id": "vr0o1tbXH3iP"
      },
      "execution_count": 30,
      "outputs": []
    },
    {
      "cell_type": "code",
      "source": [
        "X_input.shape"
      ],
      "metadata": {
        "colab": {
          "base_uri": "https://localhost:8080/"
        },
        "id": "K1H0NEvBHR53",
        "outputId": "f0e7659b-beca-4979-8549-866177f6f891"
      },
      "execution_count": 31,
      "outputs": [
        {
          "output_type": "execute_result",
          "data": {
            "text/plain": [
              "(1, 100)"
            ]
          },
          "metadata": {},
          "execution_count": 31
        }
      ]
    },
    {
      "cell_type": "code",
      "source": [
        "temp_list = list(X_input)\n",
        "temp_list = temp_list[0].tolist()"
      ],
      "metadata": {
        "id": "j3nIny1GJZtE"
      },
      "execution_count": 33,
      "outputs": []
    },
    {
      "cell_type": "code",
      "source": [
        "from numpy import array\n",
        "lst_output = []\n",
        "n_steps = 100\n",
        "i =0\n",
        "while(i<30):\n",
        "  if(len(temp_list)>100):\n",
        "    X_input = np.array(temp_list[1:])\n",
        "    print(\"{} day input {}\".format(i,X_input))\n",
        "    X_input = X_input.reshape(1,-1)\n",
        "    X_input = X_input.reshape((1,n_steps,1))\n",
        "    y_hat = model.predict(X_input, verbose =0)\n",
        "    print(\"{} day output {}\".format(i,y_hat))\n",
        "    temp_list.extend(y_hat[0].tolist())\n",
        "    temp_list = temp_list[1:]\n",
        "    lst_output.extend(y_hat.tolist())\n",
        "    i=i+1\n",
        "  else:\n",
        "    X_input = X_input.reshape((1,n_steps,1))\n",
        "    y_hat = model.predict(X_input, verbose =0)\n",
        "    print(y_hat[0])\n",
        "    temp_list.extend(y_hat[0].tolist())\n",
        "    lst_output.extend(y_hat.tolist())\n",
        "\n",
        "\n",
        "\n",
        "    i = i+1\n",
        "\n",
        "\n"
      ],
      "metadata": {
        "colab": {
          "base_uri": "https://localhost:8080/"
        },
        "id": "xsae54s7Jqwm",
        "outputId": "7ed368dd-a4c9-4bea-d181-957f6e17eaea"
      },
      "execution_count": 40,
      "outputs": [
        {
          "output_type": "stream",
          "name": "stdout",
          "text": [
            "[0.09788112]\n",
            "1 day input [0.08909205 0.09244834 0.09272386 0.09154665 0.10126487 0.10672511\n",
            " 0.11396368 0.10647464 0.09507827 0.12247965 0.11646838 0.10973075\n",
            " 0.09565435 0.08025047 0.07899812 0.08035066 0.08180338 0.07020664\n",
            " 0.10026299 0.10735128 0.10379461 0.10820288 0.10507201 0.10990607\n",
            " 0.11133375 0.10311835 0.10855354 0.11078272 0.10336882 0.09362555\n",
            " 0.08598622 0.10316844 0.10386976 0.10261741 0.09966187 0.0903444\n",
            " 0.08541014 0.08969317 0.08846587 0.09430182 0.09675642 0.0910958\n",
            " 0.07428929 0.06930495 0.0639449  0.06376957 0.07165936 0.06359424\n",
            " 0.0626675  0.05808391 0.04809017 0.05703193 0.05783344 0.04566061\n",
            " 0.04889167 0.04553538 0.05705698 0.05838447 0.05983719 0.06675016\n",
            " 0.06654978 0.06993112 0.07288666 0.07105823 0.07120852 0.07772073\n",
            " 0.08583594 0.08939261 0.08771446 0.09297433 0.09790858 0.09056982\n",
            " 0.09380088 0.09665623 0.11015654 0.11937383 0.11243582 0.11974953\n",
            " 0.11291171 0.11028178 0.11063244 0.11774577 0.11611772 0.12145272\n",
            " 0.11739512 0.11448967 0.10429555 0.10537257 0.10659987 0.09986224\n",
            " 0.10289292 0.10161553 0.09635567 0.09785848 0.11068253 0.11769568\n",
            " 0.11211021 0.11529117 0.10958046 0.09788112]\n",
            "1 day output [[0.09838851]]\n",
            "2 day input [0.09244834 0.09272386 0.09154665 0.10126487 0.10672511 0.11396368\n",
            " 0.10647464 0.09507827 0.12247965 0.11646838 0.10973075 0.09565435\n",
            " 0.08025047 0.07899812 0.08035066 0.08180338 0.07020664 0.10026299\n",
            " 0.10735128 0.10379461 0.10820288 0.10507201 0.10990607 0.11133375\n",
            " 0.10311835 0.10855354 0.11078272 0.10336882 0.09362555 0.08598622\n",
            " 0.10316844 0.10386976 0.10261741 0.09966187 0.0903444  0.08541014\n",
            " 0.08969317 0.08846587 0.09430182 0.09675642 0.0910958  0.07428929\n",
            " 0.06930495 0.0639449  0.06376957 0.07165936 0.06359424 0.0626675\n",
            " 0.05808391 0.04809017 0.05703193 0.05783344 0.04566061 0.04889167\n",
            " 0.04553538 0.05705698 0.05838447 0.05983719 0.06675016 0.06654978\n",
            " 0.06993112 0.07288666 0.07105823 0.07120852 0.07772073 0.08583594\n",
            " 0.08939261 0.08771446 0.09297433 0.09790858 0.09056982 0.09380088\n",
            " 0.09665623 0.11015654 0.11937383 0.11243582 0.11974953 0.11291171\n",
            " 0.11028178 0.11063244 0.11774577 0.11611772 0.12145272 0.11739512\n",
            " 0.11448967 0.10429555 0.10537257 0.10659987 0.09986224 0.10289292\n",
            " 0.10161553 0.09635567 0.09785848 0.11068253 0.11769568 0.11211021\n",
            " 0.11529117 0.10958046 0.09788112 0.09838851]\n",
            "2 day output [[0.09817064]]\n",
            "3 day input [0.09272386 0.09154665 0.10126487 0.10672511 0.11396368 0.10647464\n",
            " 0.09507827 0.12247965 0.11646838 0.10973075 0.09565435 0.08025047\n",
            " 0.07899812 0.08035066 0.08180338 0.07020664 0.10026299 0.10735128\n",
            " 0.10379461 0.10820288 0.10507201 0.10990607 0.11133375 0.10311835\n",
            " 0.10855354 0.11078272 0.10336882 0.09362555 0.08598622 0.10316844\n",
            " 0.10386976 0.10261741 0.09966187 0.0903444  0.08541014 0.08969317\n",
            " 0.08846587 0.09430182 0.09675642 0.0910958  0.07428929 0.06930495\n",
            " 0.0639449  0.06376957 0.07165936 0.06359424 0.0626675  0.05808391\n",
            " 0.04809017 0.05703193 0.05783344 0.04566061 0.04889167 0.04553538\n",
            " 0.05705698 0.05838447 0.05983719 0.06675016 0.06654978 0.06993112\n",
            " 0.07288666 0.07105823 0.07120852 0.07772073 0.08583594 0.08939261\n",
            " 0.08771446 0.09297433 0.09790858 0.09056982 0.09380088 0.09665623\n",
            " 0.11015654 0.11937383 0.11243582 0.11974953 0.11291171 0.11028178\n",
            " 0.11063244 0.11774577 0.11611772 0.12145272 0.11739512 0.11448967\n",
            " 0.10429555 0.10537257 0.10659987 0.09986224 0.10289292 0.10161553\n",
            " 0.09635567 0.09785848 0.11068253 0.11769568 0.11211021 0.11529117\n",
            " 0.10958046 0.09788112 0.09838851 0.09817064]\n",
            "3 day output [[0.0974065]]\n",
            "4 day input [0.09154665 0.10126487 0.10672511 0.11396368 0.10647464 0.09507827\n",
            " 0.12247965 0.11646838 0.10973075 0.09565435 0.08025047 0.07899812\n",
            " 0.08035066 0.08180338 0.07020664 0.10026299 0.10735128 0.10379461\n",
            " 0.10820288 0.10507201 0.10990607 0.11133375 0.10311835 0.10855354\n",
            " 0.11078272 0.10336882 0.09362555 0.08598622 0.10316844 0.10386976\n",
            " 0.10261741 0.09966187 0.0903444  0.08541014 0.08969317 0.08846587\n",
            " 0.09430182 0.09675642 0.0910958  0.07428929 0.06930495 0.0639449\n",
            " 0.06376957 0.07165936 0.06359424 0.0626675  0.05808391 0.04809017\n",
            " 0.05703193 0.05783344 0.04566061 0.04889167 0.04553538 0.05705698\n",
            " 0.05838447 0.05983719 0.06675016 0.06654978 0.06993112 0.07288666\n",
            " 0.07105823 0.07120852 0.07772073 0.08583594 0.08939261 0.08771446\n",
            " 0.09297433 0.09790858 0.09056982 0.09380088 0.09665623 0.11015654\n",
            " 0.11937383 0.11243582 0.11974953 0.11291171 0.11028178 0.11063244\n",
            " 0.11774577 0.11611772 0.12145272 0.11739512 0.11448967 0.10429555\n",
            " 0.10537257 0.10659987 0.09986224 0.10289292 0.10161553 0.09635567\n",
            " 0.09785848 0.11068253 0.11769568 0.11211021 0.11529117 0.10958046\n",
            " 0.09788112 0.09838851 0.09817064 0.0974065 ]\n",
            "4 day output [[0.09628859]]\n",
            "5 day input [0.10126487 0.10672511 0.11396368 0.10647464 0.09507827 0.12247965\n",
            " 0.11646838 0.10973075 0.09565435 0.08025047 0.07899812 0.08035066\n",
            " 0.08180338 0.07020664 0.10026299 0.10735128 0.10379461 0.10820288\n",
            " 0.10507201 0.10990607 0.11133375 0.10311835 0.10855354 0.11078272\n",
            " 0.10336882 0.09362555 0.08598622 0.10316844 0.10386976 0.10261741\n",
            " 0.09966187 0.0903444  0.08541014 0.08969317 0.08846587 0.09430182\n",
            " 0.09675642 0.0910958  0.07428929 0.06930495 0.0639449  0.06376957\n",
            " 0.07165936 0.06359424 0.0626675  0.05808391 0.04809017 0.05703193\n",
            " 0.05783344 0.04566061 0.04889167 0.04553538 0.05705698 0.05838447\n",
            " 0.05983719 0.06675016 0.06654978 0.06993112 0.07288666 0.07105823\n",
            " 0.07120852 0.07772073 0.08583594 0.08939261 0.08771446 0.09297433\n",
            " 0.09790858 0.09056982 0.09380088 0.09665623 0.11015654 0.11937383\n",
            " 0.11243582 0.11974953 0.11291171 0.11028178 0.11063244 0.11774577\n",
            " 0.11611772 0.12145272 0.11739512 0.11448967 0.10429555 0.10537257\n",
            " 0.10659987 0.09986224 0.10289292 0.10161553 0.09635567 0.09785848\n",
            " 0.11068253 0.11769568 0.11211021 0.11529117 0.10958046 0.09788112\n",
            " 0.09838851 0.09817064 0.0974065  0.09628859]\n",
            "5 day output [[0.09496262]]\n",
            "6 day input [0.10672511 0.11396368 0.10647464 0.09507827 0.12247965 0.11646838\n",
            " 0.10973075 0.09565435 0.08025047 0.07899812 0.08035066 0.08180338\n",
            " 0.07020664 0.10026299 0.10735128 0.10379461 0.10820288 0.10507201\n",
            " 0.10990607 0.11133375 0.10311835 0.10855354 0.11078272 0.10336882\n",
            " 0.09362555 0.08598622 0.10316844 0.10386976 0.10261741 0.09966187\n",
            " 0.0903444  0.08541014 0.08969317 0.08846587 0.09430182 0.09675642\n",
            " 0.0910958  0.07428929 0.06930495 0.0639449  0.06376957 0.07165936\n",
            " 0.06359424 0.0626675  0.05808391 0.04809017 0.05703193 0.05783344\n",
            " 0.04566061 0.04889167 0.04553538 0.05705698 0.05838447 0.05983719\n",
            " 0.06675016 0.06654978 0.06993112 0.07288666 0.07105823 0.07120852\n",
            " 0.07772073 0.08583594 0.08939261 0.08771446 0.09297433 0.09790858\n",
            " 0.09056982 0.09380088 0.09665623 0.11015654 0.11937383 0.11243582\n",
            " 0.11974953 0.11291171 0.11028178 0.11063244 0.11774577 0.11611772\n",
            " 0.12145272 0.11739512 0.11448967 0.10429555 0.10537257 0.10659987\n",
            " 0.09986224 0.10289292 0.10161553 0.09635567 0.09785848 0.11068253\n",
            " 0.11769568 0.11211021 0.11529117 0.10958046 0.09788112 0.09838851\n",
            " 0.09817064 0.0974065  0.09628859 0.09496262]\n",
            "6 day output [[0.09352271]]\n",
            "7 day input [0.11396368 0.10647464 0.09507827 0.12247965 0.11646838 0.10973075\n",
            " 0.09565435 0.08025047 0.07899812 0.08035066 0.08180338 0.07020664\n",
            " 0.10026299 0.10735128 0.10379461 0.10820288 0.10507201 0.10990607\n",
            " 0.11133375 0.10311835 0.10855354 0.11078272 0.10336882 0.09362555\n",
            " 0.08598622 0.10316844 0.10386976 0.10261741 0.09966187 0.0903444\n",
            " 0.08541014 0.08969317 0.08846587 0.09430182 0.09675642 0.0910958\n",
            " 0.07428929 0.06930495 0.0639449  0.06376957 0.07165936 0.06359424\n",
            " 0.0626675  0.05808391 0.04809017 0.05703193 0.05783344 0.04566061\n",
            " 0.04889167 0.04553538 0.05705698 0.05838447 0.05983719 0.06675016\n",
            " 0.06654978 0.06993112 0.07288666 0.07105823 0.07120852 0.07772073\n",
            " 0.08583594 0.08939261 0.08771446 0.09297433 0.09790858 0.09056982\n",
            " 0.09380088 0.09665623 0.11015654 0.11937383 0.11243582 0.11974953\n",
            " 0.11291171 0.11028178 0.11063244 0.11774577 0.11611772 0.12145272\n",
            " 0.11739512 0.11448967 0.10429555 0.10537257 0.10659987 0.09986224\n",
            " 0.10289292 0.10161553 0.09635567 0.09785848 0.11068253 0.11769568\n",
            " 0.11211021 0.11529117 0.10958046 0.09788112 0.09838851 0.09817064\n",
            " 0.0974065  0.09628859 0.09496262 0.09352271]\n",
            "7 day output [[0.09202395]]\n",
            "8 day input [0.10647464 0.09507827 0.12247965 0.11646838 0.10973075 0.09565435\n",
            " 0.08025047 0.07899812 0.08035066 0.08180338 0.07020664 0.10026299\n",
            " 0.10735128 0.10379461 0.10820288 0.10507201 0.10990607 0.11133375\n",
            " 0.10311835 0.10855354 0.11078272 0.10336882 0.09362555 0.08598622\n",
            " 0.10316844 0.10386976 0.10261741 0.09966187 0.0903444  0.08541014\n",
            " 0.08969317 0.08846587 0.09430182 0.09675642 0.0910958  0.07428929\n",
            " 0.06930495 0.0639449  0.06376957 0.07165936 0.06359424 0.0626675\n",
            " 0.05808391 0.04809017 0.05703193 0.05783344 0.04566061 0.04889167\n",
            " 0.04553538 0.05705698 0.05838447 0.05983719 0.06675016 0.06654978\n",
            " 0.06993112 0.07288666 0.07105823 0.07120852 0.07772073 0.08583594\n",
            " 0.08939261 0.08771446 0.09297433 0.09790858 0.09056982 0.09380088\n",
            " 0.09665623 0.11015654 0.11937383 0.11243582 0.11974953 0.11291171\n",
            " 0.11028178 0.11063244 0.11774577 0.11611772 0.12145272 0.11739512\n",
            " 0.11448967 0.10429555 0.10537257 0.10659987 0.09986224 0.10289292\n",
            " 0.10161553 0.09635567 0.09785848 0.11068253 0.11769568 0.11211021\n",
            " 0.11529117 0.10958046 0.09788112 0.09838851 0.09817064 0.0974065\n",
            " 0.09628859 0.09496262 0.09352271 0.09202395]\n",
            "8 day output [[0.09049676]]\n",
            "9 day input [0.09507827 0.12247965 0.11646838 0.10973075 0.09565435 0.08025047\n",
            " 0.07899812 0.08035066 0.08180338 0.07020664 0.10026299 0.10735128\n",
            " 0.10379461 0.10820288 0.10507201 0.10990607 0.11133375 0.10311835\n",
            " 0.10855354 0.11078272 0.10336882 0.09362555 0.08598622 0.10316844\n",
            " 0.10386976 0.10261741 0.09966187 0.0903444  0.08541014 0.08969317\n",
            " 0.08846587 0.09430182 0.09675642 0.0910958  0.07428929 0.06930495\n",
            " 0.0639449  0.06376957 0.07165936 0.06359424 0.0626675  0.05808391\n",
            " 0.04809017 0.05703193 0.05783344 0.04566061 0.04889167 0.04553538\n",
            " 0.05705698 0.05838447 0.05983719 0.06675016 0.06654978 0.06993112\n",
            " 0.07288666 0.07105823 0.07120852 0.07772073 0.08583594 0.08939261\n",
            " 0.08771446 0.09297433 0.09790858 0.09056982 0.09380088 0.09665623\n",
            " 0.11015654 0.11937383 0.11243582 0.11974953 0.11291171 0.11028178\n",
            " 0.11063244 0.11774577 0.11611772 0.12145272 0.11739512 0.11448967\n",
            " 0.10429555 0.10537257 0.10659987 0.09986224 0.10289292 0.10161553\n",
            " 0.09635567 0.09785848 0.11068253 0.11769568 0.11211021 0.11529117\n",
            " 0.10958046 0.09788112 0.09838851 0.09817064 0.0974065  0.09628859\n",
            " 0.09496262 0.09352271 0.09202395 0.09049676]\n",
            "9 day output [[0.08895747]]\n",
            "10 day input [0.12247965 0.11646838 0.10973075 0.09565435 0.08025047 0.07899812\n",
            " 0.08035066 0.08180338 0.07020664 0.10026299 0.10735128 0.10379461\n",
            " 0.10820288 0.10507201 0.10990607 0.11133375 0.10311835 0.10855354\n",
            " 0.11078272 0.10336882 0.09362555 0.08598622 0.10316844 0.10386976\n",
            " 0.10261741 0.09966187 0.0903444  0.08541014 0.08969317 0.08846587\n",
            " 0.09430182 0.09675642 0.0910958  0.07428929 0.06930495 0.0639449\n",
            " 0.06376957 0.07165936 0.06359424 0.0626675  0.05808391 0.04809017\n",
            " 0.05703193 0.05783344 0.04566061 0.04889167 0.04553538 0.05705698\n",
            " 0.05838447 0.05983719 0.06675016 0.06654978 0.06993112 0.07288666\n",
            " 0.07105823 0.07120852 0.07772073 0.08583594 0.08939261 0.08771446\n",
            " 0.09297433 0.09790858 0.09056982 0.09380088 0.09665623 0.11015654\n",
            " 0.11937383 0.11243582 0.11974953 0.11291171 0.11028178 0.11063244\n",
            " 0.11774577 0.11611772 0.12145272 0.11739512 0.11448967 0.10429555\n",
            " 0.10537257 0.10659987 0.09986224 0.10289292 0.10161553 0.09635567\n",
            " 0.09785848 0.11068253 0.11769568 0.11211021 0.11529117 0.10958046\n",
            " 0.09788112 0.09838851 0.09817064 0.0974065  0.09628859 0.09496262\n",
            " 0.09352271 0.09202395 0.09049676 0.08895747]\n",
            "10 day output [[0.08741497]]\n",
            "11 day input [0.11646838 0.10973075 0.09565435 0.08025047 0.07899812 0.08035066\n",
            " 0.08180338 0.07020664 0.10026299 0.10735128 0.10379461 0.10820288\n",
            " 0.10507201 0.10990607 0.11133375 0.10311835 0.10855354 0.11078272\n",
            " 0.10336882 0.09362555 0.08598622 0.10316844 0.10386976 0.10261741\n",
            " 0.09966187 0.0903444  0.08541014 0.08969317 0.08846587 0.09430182\n",
            " 0.09675642 0.0910958  0.07428929 0.06930495 0.0639449  0.06376957\n",
            " 0.07165936 0.06359424 0.0626675  0.05808391 0.04809017 0.05703193\n",
            " 0.05783344 0.04566061 0.04889167 0.04553538 0.05705698 0.05838447\n",
            " 0.05983719 0.06675016 0.06654978 0.06993112 0.07288666 0.07105823\n",
            " 0.07120852 0.07772073 0.08583594 0.08939261 0.08771446 0.09297433\n",
            " 0.09790858 0.09056982 0.09380088 0.09665623 0.11015654 0.11937383\n",
            " 0.11243582 0.11974953 0.11291171 0.11028178 0.11063244 0.11774577\n",
            " 0.11611772 0.12145272 0.11739512 0.11448967 0.10429555 0.10537257\n",
            " 0.10659987 0.09986224 0.10289292 0.10161553 0.09635567 0.09785848\n",
            " 0.11068253 0.11769568 0.11211021 0.11529117 0.10958046 0.09788112\n",
            " 0.09838851 0.09817064 0.0974065  0.09628859 0.09496262 0.09352271\n",
            " 0.09202395 0.09049676 0.08895747 0.08741497]\n",
            "11 day output [[0.08587472]]\n",
            "12 day input [0.10973075 0.09565435 0.08025047 0.07899812 0.08035066 0.08180338\n",
            " 0.07020664 0.10026299 0.10735128 0.10379461 0.10820288 0.10507201\n",
            " 0.10990607 0.11133375 0.10311835 0.10855354 0.11078272 0.10336882\n",
            " 0.09362555 0.08598622 0.10316844 0.10386976 0.10261741 0.09966187\n",
            " 0.0903444  0.08541014 0.08969317 0.08846587 0.09430182 0.09675642\n",
            " 0.0910958  0.07428929 0.06930495 0.0639449  0.06376957 0.07165936\n",
            " 0.06359424 0.0626675  0.05808391 0.04809017 0.05703193 0.05783344\n",
            " 0.04566061 0.04889167 0.04553538 0.05705698 0.05838447 0.05983719\n",
            " 0.06675016 0.06654978 0.06993112 0.07288666 0.07105823 0.07120852\n",
            " 0.07772073 0.08583594 0.08939261 0.08771446 0.09297433 0.09790858\n",
            " 0.09056982 0.09380088 0.09665623 0.11015654 0.11937383 0.11243582\n",
            " 0.11974953 0.11291171 0.11028178 0.11063244 0.11774577 0.11611772\n",
            " 0.12145272 0.11739512 0.11448967 0.10429555 0.10537257 0.10659987\n",
            " 0.09986224 0.10289292 0.10161553 0.09635567 0.09785848 0.11068253\n",
            " 0.11769568 0.11211021 0.11529117 0.10958046 0.09788112 0.09838851\n",
            " 0.09817064 0.0974065  0.09628859 0.09496262 0.09352271 0.09202395\n",
            " 0.09049676 0.08895747 0.08741497 0.08587472]\n",
            "12 day output [[0.08434042]]\n",
            "13 day input [0.09565435 0.08025047 0.07899812 0.08035066 0.08180338 0.07020664\n",
            " 0.10026299 0.10735128 0.10379461 0.10820288 0.10507201 0.10990607\n",
            " 0.11133375 0.10311835 0.10855354 0.11078272 0.10336882 0.09362555\n",
            " 0.08598622 0.10316844 0.10386976 0.10261741 0.09966187 0.0903444\n",
            " 0.08541014 0.08969317 0.08846587 0.09430182 0.09675642 0.0910958\n",
            " 0.07428929 0.06930495 0.0639449  0.06376957 0.07165936 0.06359424\n",
            " 0.0626675  0.05808391 0.04809017 0.05703193 0.05783344 0.04566061\n",
            " 0.04889167 0.04553538 0.05705698 0.05838447 0.05983719 0.06675016\n",
            " 0.06654978 0.06993112 0.07288666 0.07105823 0.07120852 0.07772073\n",
            " 0.08583594 0.08939261 0.08771446 0.09297433 0.09790858 0.09056982\n",
            " 0.09380088 0.09665623 0.11015654 0.11937383 0.11243582 0.11974953\n",
            " 0.11291171 0.11028178 0.11063244 0.11774577 0.11611772 0.12145272\n",
            " 0.11739512 0.11448967 0.10429555 0.10537257 0.10659987 0.09986224\n",
            " 0.10289292 0.10161553 0.09635567 0.09785848 0.11068253 0.11769568\n",
            " 0.11211021 0.11529117 0.10958046 0.09788112 0.09838851 0.09817064\n",
            " 0.0974065  0.09628859 0.09496262 0.09352271 0.09202395 0.09049676\n",
            " 0.08895747 0.08741497 0.08587472 0.08434042]\n",
            "13 day output [[0.08281493]]\n",
            "14 day input [0.08025047 0.07899812 0.08035066 0.08180338 0.07020664 0.10026299\n",
            " 0.10735128 0.10379461 0.10820288 0.10507201 0.10990607 0.11133375\n",
            " 0.10311835 0.10855354 0.11078272 0.10336882 0.09362555 0.08598622\n",
            " 0.10316844 0.10386976 0.10261741 0.09966187 0.0903444  0.08541014\n",
            " 0.08969317 0.08846587 0.09430182 0.09675642 0.0910958  0.07428929\n",
            " 0.06930495 0.0639449  0.06376957 0.07165936 0.06359424 0.0626675\n",
            " 0.05808391 0.04809017 0.05703193 0.05783344 0.04566061 0.04889167\n",
            " 0.04553538 0.05705698 0.05838447 0.05983719 0.06675016 0.06654978\n",
            " 0.06993112 0.07288666 0.07105823 0.07120852 0.07772073 0.08583594\n",
            " 0.08939261 0.08771446 0.09297433 0.09790858 0.09056982 0.09380088\n",
            " 0.09665623 0.11015654 0.11937383 0.11243582 0.11974953 0.11291171\n",
            " 0.11028178 0.11063244 0.11774577 0.11611772 0.12145272 0.11739512\n",
            " 0.11448967 0.10429555 0.10537257 0.10659987 0.09986224 0.10289292\n",
            " 0.10161553 0.09635567 0.09785848 0.11068253 0.11769568 0.11211021\n",
            " 0.11529117 0.10958046 0.09788112 0.09838851 0.09817064 0.0974065\n",
            " 0.09628859 0.09496262 0.09352271 0.09202395 0.09049676 0.08895747\n",
            " 0.08741497 0.08587472 0.08434042 0.08281493]\n",
            "14 day output [[0.08130042]]\n",
            "15 day input [0.07899812 0.08035066 0.08180338 0.07020664 0.10026299 0.10735128\n",
            " 0.10379461 0.10820288 0.10507201 0.10990607 0.11133375 0.10311835\n",
            " 0.10855354 0.11078272 0.10336882 0.09362555 0.08598622 0.10316844\n",
            " 0.10386976 0.10261741 0.09966187 0.0903444  0.08541014 0.08969317\n",
            " 0.08846587 0.09430182 0.09675642 0.0910958  0.07428929 0.06930495\n",
            " 0.0639449  0.06376957 0.07165936 0.06359424 0.0626675  0.05808391\n",
            " 0.04809017 0.05703193 0.05783344 0.04566061 0.04889167 0.04553538\n",
            " 0.05705698 0.05838447 0.05983719 0.06675016 0.06654978 0.06993112\n",
            " 0.07288666 0.07105823 0.07120852 0.07772073 0.08583594 0.08939261\n",
            " 0.08771446 0.09297433 0.09790858 0.09056982 0.09380088 0.09665623\n",
            " 0.11015654 0.11937383 0.11243582 0.11974953 0.11291171 0.11028178\n",
            " 0.11063244 0.11774577 0.11611772 0.12145272 0.11739512 0.11448967\n",
            " 0.10429555 0.10537257 0.10659987 0.09986224 0.10289292 0.10161553\n",
            " 0.09635567 0.09785848 0.11068253 0.11769568 0.11211021 0.11529117\n",
            " 0.10958046 0.09788112 0.09838851 0.09817064 0.0974065  0.09628859\n",
            " 0.09496262 0.09352271 0.09202395 0.09049676 0.08895747 0.08741497\n",
            " 0.08587472 0.08434042 0.08281493 0.08130042]\n",
            "15 day output [[0.07979859]]\n",
            "16 day input [0.08035066 0.08180338 0.07020664 0.10026299 0.10735128 0.10379461\n",
            " 0.10820288 0.10507201 0.10990607 0.11133375 0.10311835 0.10855354\n",
            " 0.11078272 0.10336882 0.09362555 0.08598622 0.10316844 0.10386976\n",
            " 0.10261741 0.09966187 0.0903444  0.08541014 0.08969317 0.08846587\n",
            " 0.09430182 0.09675642 0.0910958  0.07428929 0.06930495 0.0639449\n",
            " 0.06376957 0.07165936 0.06359424 0.0626675  0.05808391 0.04809017\n",
            " 0.05703193 0.05783344 0.04566061 0.04889167 0.04553538 0.05705698\n",
            " 0.05838447 0.05983719 0.06675016 0.06654978 0.06993112 0.07288666\n",
            " 0.07105823 0.07120852 0.07772073 0.08583594 0.08939261 0.08771446\n",
            " 0.09297433 0.09790858 0.09056982 0.09380088 0.09665623 0.11015654\n",
            " 0.11937383 0.11243582 0.11974953 0.11291171 0.11028178 0.11063244\n",
            " 0.11774577 0.11611772 0.12145272 0.11739512 0.11448967 0.10429555\n",
            " 0.10537257 0.10659987 0.09986224 0.10289292 0.10161553 0.09635567\n",
            " 0.09785848 0.11068253 0.11769568 0.11211021 0.11529117 0.10958046\n",
            " 0.09788112 0.09838851 0.09817064 0.0974065  0.09628859 0.09496262\n",
            " 0.09352271 0.09202395 0.09049676 0.08895747 0.08741497 0.08587472\n",
            " 0.08434042 0.08281493 0.08130042 0.07979859]\n",
            "16 day output [[0.07831066]]\n",
            "17 day input [0.08180338 0.07020664 0.10026299 0.10735128 0.10379461 0.10820288\n",
            " 0.10507201 0.10990607 0.11133375 0.10311835 0.10855354 0.11078272\n",
            " 0.10336882 0.09362555 0.08598622 0.10316844 0.10386976 0.10261741\n",
            " 0.09966187 0.0903444  0.08541014 0.08969317 0.08846587 0.09430182\n",
            " 0.09675642 0.0910958  0.07428929 0.06930495 0.0639449  0.06376957\n",
            " 0.07165936 0.06359424 0.0626675  0.05808391 0.04809017 0.05703193\n",
            " 0.05783344 0.04566061 0.04889167 0.04553538 0.05705698 0.05838447\n",
            " 0.05983719 0.06675016 0.06654978 0.06993112 0.07288666 0.07105823\n",
            " 0.07120852 0.07772073 0.08583594 0.08939261 0.08771446 0.09297433\n",
            " 0.09790858 0.09056982 0.09380088 0.09665623 0.11015654 0.11937383\n",
            " 0.11243582 0.11974953 0.11291171 0.11028178 0.11063244 0.11774577\n",
            " 0.11611772 0.12145272 0.11739512 0.11448967 0.10429555 0.10537257\n",
            " 0.10659987 0.09986224 0.10289292 0.10161553 0.09635567 0.09785848\n",
            " 0.11068253 0.11769568 0.11211021 0.11529117 0.10958046 0.09788112\n",
            " 0.09838851 0.09817064 0.0974065  0.09628859 0.09496262 0.09352271\n",
            " 0.09202395 0.09049676 0.08895747 0.08741497 0.08587472 0.08434042\n",
            " 0.08281493 0.08130042 0.07979859 0.07831066]\n",
            "17 day output [[0.07683741]]\n",
            "18 day input [0.07020664 0.10026299 0.10735128 0.10379461 0.10820288 0.10507201\n",
            " 0.10990607 0.11133375 0.10311835 0.10855354 0.11078272 0.10336882\n",
            " 0.09362555 0.08598622 0.10316844 0.10386976 0.10261741 0.09966187\n",
            " 0.0903444  0.08541014 0.08969317 0.08846587 0.09430182 0.09675642\n",
            " 0.0910958  0.07428929 0.06930495 0.0639449  0.06376957 0.07165936\n",
            " 0.06359424 0.0626675  0.05808391 0.04809017 0.05703193 0.05783344\n",
            " 0.04566061 0.04889167 0.04553538 0.05705698 0.05838447 0.05983719\n",
            " 0.06675016 0.06654978 0.06993112 0.07288666 0.07105823 0.07120852\n",
            " 0.07772073 0.08583594 0.08939261 0.08771446 0.09297433 0.09790858\n",
            " 0.09056982 0.09380088 0.09665623 0.11015654 0.11937383 0.11243582\n",
            " 0.11974953 0.11291171 0.11028178 0.11063244 0.11774577 0.11611772\n",
            " 0.12145272 0.11739512 0.11448967 0.10429555 0.10537257 0.10659987\n",
            " 0.09986224 0.10289292 0.10161553 0.09635567 0.09785848 0.11068253\n",
            " 0.11769568 0.11211021 0.11529117 0.10958046 0.09788112 0.09838851\n",
            " 0.09817064 0.0974065  0.09628859 0.09496262 0.09352271 0.09202395\n",
            " 0.09049676 0.08895747 0.08741497 0.08587472 0.08434042 0.08281493\n",
            " 0.08130042 0.07979859 0.07831066 0.07683741]\n",
            "18 day output [[0.07537919]]\n",
            "19 day input [0.10026299 0.10735128 0.10379461 0.10820288 0.10507201 0.10990607\n",
            " 0.11133375 0.10311835 0.10855354 0.11078272 0.10336882 0.09362555\n",
            " 0.08598622 0.10316844 0.10386976 0.10261741 0.09966187 0.0903444\n",
            " 0.08541014 0.08969317 0.08846587 0.09430182 0.09675642 0.0910958\n",
            " 0.07428929 0.06930495 0.0639449  0.06376957 0.07165936 0.06359424\n",
            " 0.0626675  0.05808391 0.04809017 0.05703193 0.05783344 0.04566061\n",
            " 0.04889167 0.04553538 0.05705698 0.05838447 0.05983719 0.06675016\n",
            " 0.06654978 0.06993112 0.07288666 0.07105823 0.07120852 0.07772073\n",
            " 0.08583594 0.08939261 0.08771446 0.09297433 0.09790858 0.09056982\n",
            " 0.09380088 0.09665623 0.11015654 0.11937383 0.11243582 0.11974953\n",
            " 0.11291171 0.11028178 0.11063244 0.11774577 0.11611772 0.12145272\n",
            " 0.11739512 0.11448967 0.10429555 0.10537257 0.10659987 0.09986224\n",
            " 0.10289292 0.10161553 0.09635567 0.09785848 0.11068253 0.11769568\n",
            " 0.11211021 0.11529117 0.10958046 0.09788112 0.09838851 0.09817064\n",
            " 0.0974065  0.09628859 0.09496262 0.09352271 0.09202395 0.09049676\n",
            " 0.08895747 0.08741497 0.08587472 0.08434042 0.08281493 0.08130042\n",
            " 0.07979859 0.07831066 0.07683741 0.07537919]\n",
            "19 day output [[0.07393609]]\n",
            "20 day input [0.10735128 0.10379461 0.10820288 0.10507201 0.10990607 0.11133375\n",
            " 0.10311835 0.10855354 0.11078272 0.10336882 0.09362555 0.08598622\n",
            " 0.10316844 0.10386976 0.10261741 0.09966187 0.0903444  0.08541014\n",
            " 0.08969317 0.08846587 0.09430182 0.09675642 0.0910958  0.07428929\n",
            " 0.06930495 0.0639449  0.06376957 0.07165936 0.06359424 0.0626675\n",
            " 0.05808391 0.04809017 0.05703193 0.05783344 0.04566061 0.04889167\n",
            " 0.04553538 0.05705698 0.05838447 0.05983719 0.06675016 0.06654978\n",
            " 0.06993112 0.07288666 0.07105823 0.07120852 0.07772073 0.08583594\n",
            " 0.08939261 0.08771446 0.09297433 0.09790858 0.09056982 0.09380088\n",
            " 0.09665623 0.11015654 0.11937383 0.11243582 0.11974953 0.11291171\n",
            " 0.11028178 0.11063244 0.11774577 0.11611772 0.12145272 0.11739512\n",
            " 0.11448967 0.10429555 0.10537257 0.10659987 0.09986224 0.10289292\n",
            " 0.10161553 0.09635567 0.09785848 0.11068253 0.11769568 0.11211021\n",
            " 0.11529117 0.10958046 0.09788112 0.09838851 0.09817064 0.0974065\n",
            " 0.09628859 0.09496262 0.09352271 0.09202395 0.09049676 0.08895747\n",
            " 0.08741497 0.08587472 0.08434042 0.08281493 0.08130042 0.07979859\n",
            " 0.07831066 0.07683741 0.07537919 0.07393609]\n",
            "20 day output [[0.0725079]]\n",
            "21 day input [0.10379461 0.10820288 0.10507201 0.10990607 0.11133375 0.10311835\n",
            " 0.10855354 0.11078272 0.10336882 0.09362555 0.08598622 0.10316844\n",
            " 0.10386976 0.10261741 0.09966187 0.0903444  0.08541014 0.08969317\n",
            " 0.08846587 0.09430182 0.09675642 0.0910958  0.07428929 0.06930495\n",
            " 0.0639449  0.06376957 0.07165936 0.06359424 0.0626675  0.05808391\n",
            " 0.04809017 0.05703193 0.05783344 0.04566061 0.04889167 0.04553538\n",
            " 0.05705698 0.05838447 0.05983719 0.06675016 0.06654978 0.06993112\n",
            " 0.07288666 0.07105823 0.07120852 0.07772073 0.08583594 0.08939261\n",
            " 0.08771446 0.09297433 0.09790858 0.09056982 0.09380088 0.09665623\n",
            " 0.11015654 0.11937383 0.11243582 0.11974953 0.11291171 0.11028178\n",
            " 0.11063244 0.11774577 0.11611772 0.12145272 0.11739512 0.11448967\n",
            " 0.10429555 0.10537257 0.10659987 0.09986224 0.10289292 0.10161553\n",
            " 0.09635567 0.09785848 0.11068253 0.11769568 0.11211021 0.11529117\n",
            " 0.10958046 0.09788112 0.09838851 0.09817064 0.0974065  0.09628859\n",
            " 0.09496262 0.09352271 0.09202395 0.09049676 0.08895747 0.08741497\n",
            " 0.08587472 0.08434042 0.08281493 0.08130042 0.07979859 0.07831066\n",
            " 0.07683741 0.07537919 0.07393609 0.0725079 ]\n",
            "21 day output [[0.0710943]]\n",
            "22 day input [0.10820288 0.10507201 0.10990607 0.11133375 0.10311835 0.10855354\n",
            " 0.11078272 0.10336882 0.09362555 0.08598622 0.10316844 0.10386976\n",
            " 0.10261741 0.09966187 0.0903444  0.08541014 0.08969317 0.08846587\n",
            " 0.09430182 0.09675642 0.0910958  0.07428929 0.06930495 0.0639449\n",
            " 0.06376957 0.07165936 0.06359424 0.0626675  0.05808391 0.04809017\n",
            " 0.05703193 0.05783344 0.04566061 0.04889167 0.04553538 0.05705698\n",
            " 0.05838447 0.05983719 0.06675016 0.06654978 0.06993112 0.07288666\n",
            " 0.07105823 0.07120852 0.07772073 0.08583594 0.08939261 0.08771446\n",
            " 0.09297433 0.09790858 0.09056982 0.09380088 0.09665623 0.11015654\n",
            " 0.11937383 0.11243582 0.11974953 0.11291171 0.11028178 0.11063244\n",
            " 0.11774577 0.11611772 0.12145272 0.11739512 0.11448967 0.10429555\n",
            " 0.10537257 0.10659987 0.09986224 0.10289292 0.10161553 0.09635567\n",
            " 0.09785848 0.11068253 0.11769568 0.11211021 0.11529117 0.10958046\n",
            " 0.09788112 0.09838851 0.09817064 0.0974065  0.09628859 0.09496262\n",
            " 0.09352271 0.09202395 0.09049676 0.08895747 0.08741497 0.08587472\n",
            " 0.08434042 0.08281493 0.08130042 0.07979859 0.07831066 0.07683741\n",
            " 0.07537919 0.07393609 0.0725079  0.0710943 ]\n",
            "22 day output [[0.06969483]]\n",
            "23 day input [0.10507201 0.10990607 0.11133375 0.10311835 0.10855354 0.11078272\n",
            " 0.10336882 0.09362555 0.08598622 0.10316844 0.10386976 0.10261741\n",
            " 0.09966187 0.0903444  0.08541014 0.08969317 0.08846587 0.09430182\n",
            " 0.09675642 0.0910958  0.07428929 0.06930495 0.0639449  0.06376957\n",
            " 0.07165936 0.06359424 0.0626675  0.05808391 0.04809017 0.05703193\n",
            " 0.05783344 0.04566061 0.04889167 0.04553538 0.05705698 0.05838447\n",
            " 0.05983719 0.06675016 0.06654978 0.06993112 0.07288666 0.07105823\n",
            " 0.07120852 0.07772073 0.08583594 0.08939261 0.08771446 0.09297433\n",
            " 0.09790858 0.09056982 0.09380088 0.09665623 0.11015654 0.11937383\n",
            " 0.11243582 0.11974953 0.11291171 0.11028178 0.11063244 0.11774577\n",
            " 0.11611772 0.12145272 0.11739512 0.11448967 0.10429555 0.10537257\n",
            " 0.10659987 0.09986224 0.10289292 0.10161553 0.09635567 0.09785848\n",
            " 0.11068253 0.11769568 0.11211021 0.11529117 0.10958046 0.09788112\n",
            " 0.09838851 0.09817064 0.0974065  0.09628859 0.09496262 0.09352271\n",
            " 0.09202395 0.09049676 0.08895747 0.08741497 0.08587472 0.08434042\n",
            " 0.08281493 0.08130042 0.07979859 0.07831066 0.07683741 0.07537919\n",
            " 0.07393609 0.0725079  0.0710943  0.06969483]\n",
            "23 day output [[0.068309]]\n",
            "24 day input [0.10990607 0.11133375 0.10311835 0.10855354 0.11078272 0.10336882\n",
            " 0.09362555 0.08598622 0.10316844 0.10386976 0.10261741 0.09966187\n",
            " 0.0903444  0.08541014 0.08969317 0.08846587 0.09430182 0.09675642\n",
            " 0.0910958  0.07428929 0.06930495 0.0639449  0.06376957 0.07165936\n",
            " 0.06359424 0.0626675  0.05808391 0.04809017 0.05703193 0.05783344\n",
            " 0.04566061 0.04889167 0.04553538 0.05705698 0.05838447 0.05983719\n",
            " 0.06675016 0.06654978 0.06993112 0.07288666 0.07105823 0.07120852\n",
            " 0.07772073 0.08583594 0.08939261 0.08771446 0.09297433 0.09790858\n",
            " 0.09056982 0.09380088 0.09665623 0.11015654 0.11937383 0.11243582\n",
            " 0.11974953 0.11291171 0.11028178 0.11063244 0.11774577 0.11611772\n",
            " 0.12145272 0.11739512 0.11448967 0.10429555 0.10537257 0.10659987\n",
            " 0.09986224 0.10289292 0.10161553 0.09635567 0.09785848 0.11068253\n",
            " 0.11769568 0.11211021 0.11529117 0.10958046 0.09788112 0.09838851\n",
            " 0.09817064 0.0974065  0.09628859 0.09496262 0.09352271 0.09202395\n",
            " 0.09049676 0.08895747 0.08741497 0.08587472 0.08434042 0.08281493\n",
            " 0.08130042 0.07979859 0.07831066 0.07683741 0.07537919 0.07393609\n",
            " 0.0725079  0.0710943  0.06969483 0.068309  ]\n",
            "24 day output [[0.06693631]]\n",
            "25 day input [0.11133375 0.10311835 0.10855354 0.11078272 0.10336882 0.09362555\n",
            " 0.08598622 0.10316844 0.10386976 0.10261741 0.09966187 0.0903444\n",
            " 0.08541014 0.08969317 0.08846587 0.09430182 0.09675642 0.0910958\n",
            " 0.07428929 0.06930495 0.0639449  0.06376957 0.07165936 0.06359424\n",
            " 0.0626675  0.05808391 0.04809017 0.05703193 0.05783344 0.04566061\n",
            " 0.04889167 0.04553538 0.05705698 0.05838447 0.05983719 0.06675016\n",
            " 0.06654978 0.06993112 0.07288666 0.07105823 0.07120852 0.07772073\n",
            " 0.08583594 0.08939261 0.08771446 0.09297433 0.09790858 0.09056982\n",
            " 0.09380088 0.09665623 0.11015654 0.11937383 0.11243582 0.11974953\n",
            " 0.11291171 0.11028178 0.11063244 0.11774577 0.11611772 0.12145272\n",
            " 0.11739512 0.11448967 0.10429555 0.10537257 0.10659987 0.09986224\n",
            " 0.10289292 0.10161553 0.09635567 0.09785848 0.11068253 0.11769568\n",
            " 0.11211021 0.11529117 0.10958046 0.09788112 0.09838851 0.09817064\n",
            " 0.0974065  0.09628859 0.09496262 0.09352271 0.09202395 0.09049676\n",
            " 0.08895747 0.08741497 0.08587472 0.08434042 0.08281493 0.08130042\n",
            " 0.07979859 0.07831066 0.07683741 0.07537919 0.07393609 0.0725079\n",
            " 0.0710943  0.06969483 0.068309   0.06693631]\n",
            "25 day output [[0.06557629]]\n",
            "26 day input [0.10311835 0.10855354 0.11078272 0.10336882 0.09362555 0.08598622\n",
            " 0.10316844 0.10386976 0.10261741 0.09966187 0.0903444  0.08541014\n",
            " 0.08969317 0.08846587 0.09430182 0.09675642 0.0910958  0.07428929\n",
            " 0.06930495 0.0639449  0.06376957 0.07165936 0.06359424 0.0626675\n",
            " 0.05808391 0.04809017 0.05703193 0.05783344 0.04566061 0.04889167\n",
            " 0.04553538 0.05705698 0.05838447 0.05983719 0.06675016 0.06654978\n",
            " 0.06993112 0.07288666 0.07105823 0.07120852 0.07772073 0.08583594\n",
            " 0.08939261 0.08771446 0.09297433 0.09790858 0.09056982 0.09380088\n",
            " 0.09665623 0.11015654 0.11937383 0.11243582 0.11974953 0.11291171\n",
            " 0.11028178 0.11063244 0.11774577 0.11611772 0.12145272 0.11739512\n",
            " 0.11448967 0.10429555 0.10537257 0.10659987 0.09986224 0.10289292\n",
            " 0.10161553 0.09635567 0.09785848 0.11068253 0.11769568 0.11211021\n",
            " 0.11529117 0.10958046 0.09788112 0.09838851 0.09817064 0.0974065\n",
            " 0.09628859 0.09496262 0.09352271 0.09202395 0.09049676 0.08895747\n",
            " 0.08741497 0.08587472 0.08434042 0.08281493 0.08130042 0.07979859\n",
            " 0.07831066 0.07683741 0.07537919 0.07393609 0.0725079  0.0710943\n",
            " 0.06969483 0.068309   0.06693631 0.06557629]\n",
            "26 day output [[0.06422857]]\n",
            "27 day input [0.10855354 0.11078272 0.10336882 0.09362555 0.08598622 0.10316844\n",
            " 0.10386976 0.10261741 0.09966187 0.0903444  0.08541014 0.08969317\n",
            " 0.08846587 0.09430182 0.09675642 0.0910958  0.07428929 0.06930495\n",
            " 0.0639449  0.06376957 0.07165936 0.06359424 0.0626675  0.05808391\n",
            " 0.04809017 0.05703193 0.05783344 0.04566061 0.04889167 0.04553538\n",
            " 0.05705698 0.05838447 0.05983719 0.06675016 0.06654978 0.06993112\n",
            " 0.07288666 0.07105823 0.07120852 0.07772073 0.08583594 0.08939261\n",
            " 0.08771446 0.09297433 0.09790858 0.09056982 0.09380088 0.09665623\n",
            " 0.11015654 0.11937383 0.11243582 0.11974953 0.11291171 0.11028178\n",
            " 0.11063244 0.11774577 0.11611772 0.12145272 0.11739512 0.11448967\n",
            " 0.10429555 0.10537257 0.10659987 0.09986224 0.10289292 0.10161553\n",
            " 0.09635567 0.09785848 0.11068253 0.11769568 0.11211021 0.11529117\n",
            " 0.10958046 0.09788112 0.09838851 0.09817064 0.0974065  0.09628859\n",
            " 0.09496262 0.09352271 0.09202395 0.09049676 0.08895747 0.08741497\n",
            " 0.08587472 0.08434042 0.08281493 0.08130042 0.07979859 0.07831066\n",
            " 0.07683741 0.07537919 0.07393609 0.0725079  0.0710943  0.06969483\n",
            " 0.068309   0.06693631 0.06557629 0.06422857]\n",
            "27 day output [[0.06289288]]\n",
            "28 day input [0.11078272 0.10336882 0.09362555 0.08598622 0.10316844 0.10386976\n",
            " 0.10261741 0.09966187 0.0903444  0.08541014 0.08969317 0.08846587\n",
            " 0.09430182 0.09675642 0.0910958  0.07428929 0.06930495 0.0639449\n",
            " 0.06376957 0.07165936 0.06359424 0.0626675  0.05808391 0.04809017\n",
            " 0.05703193 0.05783344 0.04566061 0.04889167 0.04553538 0.05705698\n",
            " 0.05838447 0.05983719 0.06675016 0.06654978 0.06993112 0.07288666\n",
            " 0.07105823 0.07120852 0.07772073 0.08583594 0.08939261 0.08771446\n",
            " 0.09297433 0.09790858 0.09056982 0.09380088 0.09665623 0.11015654\n",
            " 0.11937383 0.11243582 0.11974953 0.11291171 0.11028178 0.11063244\n",
            " 0.11774577 0.11611772 0.12145272 0.11739512 0.11448967 0.10429555\n",
            " 0.10537257 0.10659987 0.09986224 0.10289292 0.10161553 0.09635567\n",
            " 0.09785848 0.11068253 0.11769568 0.11211021 0.11529117 0.10958046\n",
            " 0.09788112 0.09838851 0.09817064 0.0974065  0.09628859 0.09496262\n",
            " 0.09352271 0.09202395 0.09049676 0.08895747 0.08741497 0.08587472\n",
            " 0.08434042 0.08281493 0.08130042 0.07979859 0.07831066 0.07683741\n",
            " 0.07537919 0.07393609 0.0725079  0.0710943  0.06969483 0.068309\n",
            " 0.06693631 0.06557629 0.06422857 0.06289288]\n",
            "28 day output [[0.06156889]]\n",
            "29 day input [0.10336882 0.09362555 0.08598622 0.10316844 0.10386976 0.10261741\n",
            " 0.09966187 0.0903444  0.08541014 0.08969317 0.08846587 0.09430182\n",
            " 0.09675642 0.0910958  0.07428929 0.06930495 0.0639449  0.06376957\n",
            " 0.07165936 0.06359424 0.0626675  0.05808391 0.04809017 0.05703193\n",
            " 0.05783344 0.04566061 0.04889167 0.04553538 0.05705698 0.05838447\n",
            " 0.05983719 0.06675016 0.06654978 0.06993112 0.07288666 0.07105823\n",
            " 0.07120852 0.07772073 0.08583594 0.08939261 0.08771446 0.09297433\n",
            " 0.09790858 0.09056982 0.09380088 0.09665623 0.11015654 0.11937383\n",
            " 0.11243582 0.11974953 0.11291171 0.11028178 0.11063244 0.11774577\n",
            " 0.11611772 0.12145272 0.11739512 0.11448967 0.10429555 0.10537257\n",
            " 0.10659987 0.09986224 0.10289292 0.10161553 0.09635567 0.09785848\n",
            " 0.11068253 0.11769568 0.11211021 0.11529117 0.10958046 0.09788112\n",
            " 0.09838851 0.09817064 0.0974065  0.09628859 0.09496262 0.09352271\n",
            " 0.09202395 0.09049676 0.08895747 0.08741497 0.08587472 0.08434042\n",
            " 0.08281493 0.08130042 0.07979859 0.07831066 0.07683741 0.07537919\n",
            " 0.07393609 0.0725079  0.0710943  0.06969483 0.068309   0.06693631\n",
            " 0.06557629 0.06422857 0.06289288 0.06156889]\n",
            "29 day output [[0.06025649]]\n"
          ]
        }
      ]
    },
    {
      "cell_type": "code",
      "source": [
        "day_new =np.arange(1,101)\n",
        "day_pred = np.arange(101,131)"
      ],
      "metadata": {
        "id": "DoSwYW-FOoHI"
      },
      "execution_count": 41,
      "outputs": []
    },
    {
      "cell_type": "code",
      "source": [
        "import matplotlib.pyplot as plt"
      ],
      "metadata": {
        "id": "F76S2SHtfoxb"
      },
      "execution_count": 42,
      "outputs": []
    },
    {
      "cell_type": "code",
      "source": [
        "len(df2)"
      ],
      "metadata": {
        "colab": {
          "base_uri": "https://localhost:8080/"
        },
        "id": "QWO-sJv8fvBP",
        "outputId": "20df65a2-9104-46ba-d25b-50288235d22a"
      },
      "execution_count": 43,
      "outputs": [
        {
          "output_type": "execute_result",
          "data": {
            "text/plain": [
              "1258"
            ]
          },
          "metadata": {},
          "execution_count": 43
        }
      ]
    },
    {
      "cell_type": "code",
      "source": [
        "df3 = df2.tolist()\n",
        "df3.extend(lst_output)"
      ],
      "metadata": {
        "id": "KIHeAFVZfxEJ"
      },
      "execution_count": 44,
      "outputs": []
    },
    {
      "cell_type": "code",
      "source": [
        "plt.plot(day_new,Scaler.inverse_transform(df2[1158:]))\n",
        "plt.plot(day_pred,Scaler.inverse_transform(lst_output))"
      ],
      "metadata": {
        "colab": {
          "base_uri": "https://localhost:8080/",
          "height": 282
        },
        "id": "Y-aWe1xKf9mo",
        "outputId": "3fc47ba1-a4d2-449b-fa73-b61f2f0817f1"
      },
      "execution_count": 47,
      "outputs": [
        {
          "output_type": "execute_result",
          "data": {
            "text/plain": [
              "[<matplotlib.lines.Line2D at 0x7f00da290400>]"
            ]
          },
          "metadata": {},
          "execution_count": 47
        },
        {
          "output_type": "display_data",
          "data": {
            "text/plain": [
              "<Figure size 432x288 with 1 Axes>"
            ],
            "image/png": "[encoded data removed]"
          },
          "metadata": {
            "needs_background": "light"
          }
        }
      ]
    },
    {
      "cell_type": "code",
      "source": [],
      "metadata": {
        "id": "k-JF-kcogV7F"
      },
      "execution_count": null,
      "outputs": []
    }
  ]
}